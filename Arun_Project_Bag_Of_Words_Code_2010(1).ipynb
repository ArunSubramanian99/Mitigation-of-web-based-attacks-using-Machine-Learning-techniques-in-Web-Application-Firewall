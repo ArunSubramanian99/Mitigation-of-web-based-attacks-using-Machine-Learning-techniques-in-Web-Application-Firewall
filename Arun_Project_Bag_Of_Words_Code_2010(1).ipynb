{
  "nbformat": 4,
  "nbformat_minor": 0,
  "metadata": {
    "kernelspec": {
      "display_name": "Python 3",
      "language": "python",
      "name": "python3"
    },
    "language_info": {
      "codemirror_mode": {
        "name": "ipython",
        "version": 3
      },
      "file_extension": ".py",
      "mimetype": "text/x-python",
      "name": "python",
      "nbconvert_exporter": "python",
      "pygments_lexer": "ipython3",
      "version": "3.7.4"
    },
    "colab": {
      "name": "Arun_Project_Bag_Of_Words_Code_2010.ipynb",
      "provenance": [],
      "collapsed_sections": []
    }
  },
  "cells": [
    {
      "cell_type": "code",
      "metadata": {
        "id": "MZjAwYBsAa5w",
        "colab_type": "code",
        "colab": {}
      },
      "source": [
        "#import packages\n",
        "import pandas as pd\n",
        "from sklearn.feature_extraction.text import CountVectorizer\n",
        "import numpy as np\n",
        "from sklearn import metrics\n",
        "from sklearn.linear_model import RidgeClassifier, LogisticRegression\n",
        "from sklearn.metrics import accuracy_score\n",
        "import tensorflow as tf\n",
        "from sklearn.preprocessing import LabelEncoder\n",
        "from sklearn.model_selection import train_test_split\n",
        "from sklearn.metrics import classification_report\n",
        "from sklearn.metrics import confusion_matrix\n",
        "from sklearn.metrics import precision_score\n",
        "from sklearn.metrics import recall_score\n",
        "from sklearn.metrics import f1_score"
      ],
      "execution_count": null,
      "outputs": []
    },
    {
      "cell_type": "code",
      "metadata": {
        "id": "eqyNCWuCAs5B",
        "colab_type": "code",
        "colab": {
          "base_uri": "https://localhost:8080/",
          "height": 34
        },
        "outputId": "fa1d4174-d1b5-4d54-ae0e-ad65fb91fc7e"
      },
      "source": [
        "#mounting google drive on colab notebook\n",
        "from google.colab import drive\n",
        "drive.mount('/d')\n"
      ],
      "execution_count": null,
      "outputs": [
        {
          "output_type": "stream",
          "text": [
            "Drive already mounted at /d; to attempt to forcibly remount, call drive.mount(\"/d\", force_remount=True).\n"
          ],
          "name": "stdout"
        }
      ]
    },
    {
      "cell_type": "code",
      "metadata": {
        "id": "Vd5uaPdeAa6k",
        "colab_type": "code",
        "colab": {}
      },
      "source": [
        "#reading normal traffic data from csv file\n",
        "data1 = pd.read_csv(\"/d/My Drive/Master's project code_Arun/2010/2010/Fomatted CSV Files/cisc_normalTraffic_train_formatted.csv\")"
      ],
      "execution_count": null,
      "outputs": []
    },
    {
      "cell_type": "code",
      "metadata": {
        "id": "yxnZWB2DAa7Y",
        "colab_type": "code",
        "colab": {}
      },
      "source": [
        "#reading anomalous traffic data from csv file\n",
        "data2 = pd.read_csv(\"/d/My Drive/Master's project code_Arun/2010/2010/Fomatted CSV Files/cisc_anomalous_Traffic_test_formatted.csv\")"
      ],
      "execution_count": null,
      "outputs": []
    },
    {
      "cell_type": "code",
      "metadata": {
        "id": "OLM5fDTxAa7x",
        "colab_type": "code",
        "colab": {}
      },
      "source": [
        "#extact only 4 columns from both tables to a new dataframe\n",
        "X_data1 = data1.loc[:5000,['GET http','POST http','POST Body']]\n",
        "y_data1 = data1.loc[:5000,['class']]\n",
        "X_data2 = data2.loc[:5000,['GET http','POST http','POST Body']]\n",
        "y_data2 = data2.loc[:5000,['class']]"
      ],
      "execution_count": null,
      "outputs": []
    },
    {
      "cell_type": "code",
      "metadata": {
        "id": "dWOyU0WbAa7_",
        "colab_type": "code",
        "colab": {
          "base_uri": "https://localhost:8080/",
          "height": 34
        },
        "outputId": "b94f6b37-9815-4f67-e5df-e5b497cd96ea"
      },
      "source": [
        "#concat the data from the two tables\n",
        "X = pd.concat([X_data1, X_data2], ignore_index=True)\n",
        "y = pd.concat([y_data1, y_data2], ignore_index=True)\n",
        "\n",
        "#checking the number of classes in the data\n",
        "class_set = set(y['class'].tolist())\n",
        "print(class_set)\n",
        "\n",
        "#convert the class labels to integers\n",
        "label_encoder = LabelEncoder()\n",
        "y = np.array(label_encoder.fit_transform(y['class']))"
      ],
      "execution_count": null,
      "outputs": [
        {
          "output_type": "stream",
          "text": [
            "{' Valid', ' Attack'}\n"
          ],
          "name": "stdout"
        }
      ]
    },
    {
      "cell_type": "code",
      "metadata": {
        "id": "awEquiQNAa8Q",
        "colab_type": "code",
        "colab": {}
      },
      "source": [
        "#fill the nans with 0\n",
        "X.fillna(0, inplace = True)\n",
        "\n",
        "#iterate through each row and remove redundant chunks of text from the 3 columns\n",
        "for i,rows in X.iterrows():\n",
        "    l = []\n",
        "    for j in rows:\n",
        "        if j!=0:\n",
        "            if j.startswith('//localhost:8080/tienda1/'):\n",
        "                j = j[len('//localhost:8080/tienda1/') :]\n",
        "            if j.endswith(' HTTP/1.1'):\n",
        "                j = j[:len(j)-len(' HTTP/1.1')]\n",
        "            l.append(j)\n",
        "        else:\n",
        "            l.append(str(j))\n",
        "   \n",
        "    X.replace(to_replace = rows[0], value = l[0], inplace = True) \n",
        "    X.replace(to_replace = rows[1], value = l[1], inplace = True) \n",
        "    X.replace(to_replace = rows[2], value = l[2], inplace = True)\n",
        "    "
      ],
      "execution_count": null,
      "outputs": []
    },
    {
      "cell_type": "code",
      "metadata": {
        "id": "p0-hiFY1Aa8e",
        "colab_type": "code",
        "colab": {
          "base_uri": "https://localhost:8080/",
          "height": 363
        },
        "outputId": "0f559e65-283c-4f1c-b26b-be0ff20f3317"
      },
      "source": [
        "X.head(10)"
      ],
      "execution_count": null,
      "outputs": [
        {
          "output_type": "execute_result",
          "data": {
            "text/html": [
              "<div>\n",
              "<style scoped>\n",
              "    .dataframe tbody tr th:only-of-type {\n",
              "        vertical-align: middle;\n",
              "    }\n",
              "\n",
              "    .dataframe tbody tr th {\n",
              "        vertical-align: top;\n",
              "    }\n",
              "\n",
              "    .dataframe thead th {\n",
              "        text-align: right;\n",
              "    }\n",
              "</style>\n",
              "<table border=\"1\" class=\"dataframe\">\n",
              "  <thead>\n",
              "    <tr style=\"text-align: right;\">\n",
              "      <th></th>\n",
              "      <th>GET http</th>\n",
              "      <th>POST http</th>\n",
              "      <th>POST Body</th>\n",
              "    </tr>\n",
              "  </thead>\n",
              "  <tbody>\n",
              "    <tr>\n",
              "      <th>0</th>\n",
              "      <td>imagenes/nuestratierra.jpg</td>\n",
              "      <td>0</td>\n",
              "      <td>0</td>\n",
              "    </tr>\n",
              "    <tr>\n",
              "      <th>1</th>\n",
              "      <td>publico/registro.jsp?modo=registro&amp;login=sikan...</td>\n",
              "      <td>0</td>\n",
              "      <td>0</td>\n",
              "    </tr>\n",
              "    <tr>\n",
              "      <th>2</th>\n",
              "      <td>miembros/imagenes/zarauz.jpg</td>\n",
              "      <td>0</td>\n",
              "      <td>0</td>\n",
              "    </tr>\n",
              "    <tr>\n",
              "      <th>3</th>\n",
              "      <td>publico/autenticar.jsp?modo=entrar&amp;login=chuan...</td>\n",
              "      <td>0</td>\n",
              "      <td>0</td>\n",
              "    </tr>\n",
              "    <tr>\n",
              "      <th>4</th>\n",
              "      <td>publico/vaciar.jsp?B2=Vaciar+carrito</td>\n",
              "      <td>0</td>\n",
              "      <td>0</td>\n",
              "    </tr>\n",
              "    <tr>\n",
              "      <th>5</th>\n",
              "      <td>miembros/imagenes/zarauz.jpg</td>\n",
              "      <td>0</td>\n",
              "      <td>0</td>\n",
              "    </tr>\n",
              "    <tr>\n",
              "      <th>6</th>\n",
              "      <td>0</td>\n",
              "      <td>publico/autenticar.jsp</td>\n",
              "      <td>nanmodo=entrar&amp;login=janna&amp;pwd=eusquero&amp;rememb...</td>\n",
              "    </tr>\n",
              "    <tr>\n",
              "      <th>7</th>\n",
              "      <td>0</td>\n",
              "      <td>publico/caracteristicas.jsp</td>\n",
              "      <td>nanid=1</td>\n",
              "    </tr>\n",
              "    <tr>\n",
              "      <th>8</th>\n",
              "      <td>miembros/index.jsp</td>\n",
              "      <td>0</td>\n",
              "      <td>0</td>\n",
              "    </tr>\n",
              "    <tr>\n",
              "      <th>9</th>\n",
              "      <td>imagenes/logo.gif</td>\n",
              "      <td>0</td>\n",
              "      <td>0</td>\n",
              "    </tr>\n",
              "  </tbody>\n",
              "</table>\n",
              "</div>"
            ],
            "text/plain": [
              "                                            GET http  ...                                          POST Body\n",
              "0                         imagenes/nuestratierra.jpg  ...                                                  0\n",
              "1  publico/registro.jsp?modo=registro&login=sikan...  ...                                                  0\n",
              "2                       miembros/imagenes/zarauz.jpg  ...                                                  0\n",
              "3  publico/autenticar.jsp?modo=entrar&login=chuan...  ...                                                  0\n",
              "4               publico/vaciar.jsp?B2=Vaciar+carrito  ...                                                  0\n",
              "5                       miembros/imagenes/zarauz.jpg  ...                                                  0\n",
              "6                                                  0  ...  nanmodo=entrar&login=janna&pwd=eusquero&rememb...\n",
              "7                                                  0  ...                                            nanid=1\n",
              "8                                 miembros/index.jsp  ...                                                  0\n",
              "9                                  imagenes/logo.gif  ...                                                  0\n",
              "\n",
              "[10 rows x 3 columns]"
            ]
          },
          "metadata": {
            "tags": []
          },
          "execution_count": 39
        }
      ]
    },
    {
      "cell_type": "code",
      "metadata": {
        "id": "jVLggVHhn7UP",
        "colab_type": "code",
        "colab": {}
      },
      "source": [
        "# #the data in both the columns are decoded\n",
        "# from urllib.parse import unquote\n",
        "# for i,rows in X.iterrows():\n",
        "#     if rows[0] != 0 :\n",
        "#         rows[0] = unquote(rows[0])\n",
        "#     if rows[1] != 0:\n",
        "#         rows[1] = unquote(rows[1])\n",
        "#     if rows[2] != 0:\n",
        "#         rows[2] = unquote(rows[2])\n",
        "  "
      ],
      "execution_count": null,
      "outputs": []
    },
    {
      "cell_type": "code",
      "metadata": {
        "id": "T7yjVPhcAa8r",
        "colab_type": "code",
        "colab": {}
      },
      "source": [
        "#Bag of Words\n",
        "vectorizer = CountVectorizer()  \n",
        "vectorizer1 = CountVectorizer()\n",
        "vectorizer2 = CountVectorizer()"
      ],
      "execution_count": null,
      "outputs": []
    },
    {
      "cell_type": "code",
      "metadata": {
        "id": "-g5pTOLuAa82",
        "colab_type": "code",
        "colab": {}
      },
      "source": [
        "#BOW for GET http column\n",
        "vectorizer.fit(X['GET http'])\n",
        "vector = vectorizer.transform(X['GET http']).toarray()"
      ],
      "execution_count": null,
      "outputs": []
    },
    {
      "cell_type": "code",
      "metadata": {
        "id": "dAyfAC_sAa9D",
        "colab_type": "code",
        "colab": {}
      },
      "source": [
        "#BOW for POST http column\n",
        "vectorizer1.fit(X['POST http'])\n",
        "vector1 = vectorizer1.transform(X['POST http']).toarray()"
      ],
      "execution_count": null,
      "outputs": []
    },
    {
      "cell_type": "code",
      "metadata": {
        "id": "RsxkL1zYAa9P",
        "colab_type": "code",
        "colab": {}
      },
      "source": [
        "#BOW for POST Body column\n",
        "vectorizer2.fit(X['POST Body'])\n",
        "vector2 = vectorizer2.transform(X['POST Body']).toarray()"
      ],
      "execution_count": null,
      "outputs": []
    },
    {
      "cell_type": "code",
      "metadata": {
        "id": "vLkQOIdPAa9d",
        "colab_type": "code",
        "colab": {}
      },
      "source": [
        "#combining the BOW outputs of the 3 columns\n",
        "X_train = np.concatenate((vector,vector1,vector2),axis = 1)\n",
        "y_train = np.reshape(y,(10002,))"
      ],
      "execution_count": null,
      "outputs": []
    },
    {
      "cell_type": "code",
      "metadata": {
        "id": "0VQm5OAqAa9q",
        "colab_type": "code",
        "colab": {
          "base_uri": "https://localhost:8080/",
          "height": 52
        },
        "outputId": "98abd2d1-fb04-486f-c871-15f2681ab14f"
      },
      "source": [
        "#checking shape of the arrays before training\n",
        "print(X_train.shape)\n",
        "print(y_train.shape)"
      ],
      "execution_count": null,
      "outputs": [
        {
          "output_type": "stream",
          "text": [
            "(10002, 21285)\n",
            "(10002,)\n"
          ],
          "name": "stdout"
        }
      ]
    },
    {
      "cell_type": "code",
      "metadata": {
        "id": "m4O_22q4Aa-Q",
        "colab_type": "code",
        "colab": {}
      },
      "source": [
        "#splitting data into train and test data\n",
        "X_train, X_test, y_train, y_test = train_test_split(X_train, y_train, test_size=0.20)"
      ],
      "execution_count": null,
      "outputs": []
    },
    {
      "cell_type": "code",
      "metadata": {
        "id": "uxrissgZxxHu",
        "colab_type": "code",
        "colab": {
          "base_uri": "https://localhost:8080/",
          "height": 156
        },
        "outputId": "f43ae562-fbdc-4814-a4c6-4dcf46b405bb"
      },
      "source": [
        " from sklearn.neural_network import MLPClassifier\n",
        " model = MLPClassifier(solver='lbfgs', alpha=1e-5, hidden_layer_sizes=(4, 2), random_state=1)\n",
        " model.fit(X_train, y_train)"
      ],
      "execution_count": null,
      "outputs": [
        {
          "output_type": "execute_result",
          "data": {
            "text/plain": [
              "MLPClassifier(activation='relu', alpha=1e-05, batch_size='auto', beta_1=0.9,\n",
              "              beta_2=0.999, early_stopping=False, epsilon=1e-08,\n",
              "              hidden_layer_sizes=(4, 2), learning_rate='constant',\n",
              "              learning_rate_init=0.001, max_fun=15000, max_iter=200,\n",
              "              momentum=0.9, n_iter_no_change=10, nesterovs_momentum=True,\n",
              "              power_t=0.5, random_state=1, shuffle=True, solver='lbfgs',\n",
              "              tol=0.0001, validation_fraction=0.1, verbose=False,\n",
              "              warm_start=False)"
            ]
          },
          "metadata": {
            "tags": []
          },
          "execution_count": 48
        }
      ]
    },
    {
      "cell_type": "code",
      "metadata": {
        "id": "YyXACd4vyTcX",
        "colab_type": "code",
        "colab": {}
      },
      "source": [
        "r = model.predict(X_test)\n",
        "accuracy = accuracy_score(y_true = y_test, y_pred = r)"
      ],
      "execution_count": null,
      "outputs": []
    },
    {
      "cell_type": "code",
      "metadata": {
        "id": "dfYJgE-7yYCn",
        "colab_type": "code",
        "colab": {
          "base_uri": "https://localhost:8080/",
          "height": 330
        },
        "outputId": "2e64e095-00d4-44ea-9202-7eccf1f678a7"
      },
      "source": [
        "print(\"MLP Classifier :\")\n",
        "print(\"Accuracy :\", accuracy)\n",
        "print(\"Precision Score :\", precision_score(y_test, r, average = 'weighted'))\n",
        "print(\"Recall score :\", recall_score(y_test, r, average = 'weighted'))\n",
        "print(\"F1 - score :\", f1_score(y_test, r, average = 'weighted'))\n",
        "print(\"Confusion Matrix :\\n\",confusion_matrix(y_test, r))\n",
        "print(\"Classification Report :\\n\",classification_report(y_test, r, target_names=class_set))"
      ],
      "execution_count": null,
      "outputs": [
        {
          "output_type": "stream",
          "text": [
            "MLP Classifier :\n",
            "Accuracy : 0.815592203898051\n",
            "Precision Score : 0.8624749363978327\n",
            "Recall score : 0.815592203898051\n",
            "F1 - score : 0.809695100574014\n",
            "Confusion Matrix :\n",
            " [[989   5]\n",
            " [364 643]]\n",
            "Classification Report :\n",
            "               precision    recall  f1-score   support\n",
            "\n",
            "       Valid       0.73      0.99      0.84       994\n",
            "      Attack       0.99      0.64      0.78      1007\n",
            "\n",
            "    accuracy                           0.82      2001\n",
            "   macro avg       0.86      0.82      0.81      2001\n",
            "weighted avg       0.86      0.82      0.81      2001\n",
            "\n"
          ],
          "name": "stdout"
        }
      ]
    },
    {
      "cell_type": "code",
      "metadata": {
        "id": "H30zrlBfAa-b",
        "colab_type": "code",
        "colab": {
          "base_uri": "https://localhost:8080/",
          "height": 156
        },
        "outputId": "71fc2163-5202-4e0a-d524-55a5e946e484"
      },
      "source": [
        "#Model 1: Random Forest Classifier\n",
        "from sklearn.ensemble import RandomForestClassifier\n",
        "model = RandomForestClassifier()\n",
        "model.fit(X_train, y_train)"
      ],
      "execution_count": null,
      "outputs": [
        {
          "output_type": "execute_result",
          "data": {
            "text/plain": [
              "RandomForestClassifier(bootstrap=True, ccp_alpha=0.0, class_weight=None,\n",
              "                       criterion='gini', max_depth=None, max_features='auto',\n",
              "                       max_leaf_nodes=None, max_samples=None,\n",
              "                       min_impurity_decrease=0.0, min_impurity_split=None,\n",
              "                       min_samples_leaf=1, min_samples_split=2,\n",
              "                       min_weight_fraction_leaf=0.0, n_estimators=100,\n",
              "                       n_jobs=None, oob_score=False, random_state=None,\n",
              "                       verbose=0, warm_start=False)"
            ]
          },
          "metadata": {
            "tags": []
          },
          "execution_count": 51
        }
      ]
    },
    {
      "cell_type": "code",
      "metadata": {
        "id": "Scwfuh18Aa-m",
        "colab_type": "code",
        "colab": {}
      },
      "source": [
        "r = model.predict(X_test)\n",
        "accuracy = accuracy_score(y_true = y_test, y_pred = r)"
      ],
      "execution_count": null,
      "outputs": []
    },
    {
      "cell_type": "code",
      "metadata": {
        "id": "JuVpBO6K5xS2",
        "colab_type": "code",
        "colab": {
          "base_uri": "https://localhost:8080/",
          "height": 330
        },
        "outputId": "2d05ec13-f709-4941-c8ee-80a5164207ca"
      },
      "source": [
        "print(\"Random Forest Classifier :\")\n",
        "print(\"Accuracy :\", accuracy)\n",
        "print(\"Precision Score :\", precision_score(y_test, r, average = 'weighted'))\n",
        "print(\"Recall score :\", recall_score(y_test, r, average = 'weighted'))\n",
        "print(\"F1 - score :\", f1_score(y_test, r, average = 'weighted'))\n",
        "print(\"Confusion Matrix :\\n\",confusion_matrix(y_test, r))\n",
        "print(\"Classification Report :\\n\",classification_report(y_test, r, target_names=class_set))"
      ],
      "execution_count": null,
      "outputs": [
        {
          "output_type": "stream",
          "text": [
            "Random Forest Classifier :\n",
            "Accuracy : 0.9205397301349325\n",
            "Precision Score : 0.9222451295398434\n",
            "Recall score : 0.9205397301349325\n",
            "F1 - score : 0.9204771786448604\n",
            "Confusion Matrix :\n",
            " [[946  48]\n",
            " [111 896]]\n",
            "Classification Report :\n",
            "               precision    recall  f1-score   support\n",
            "\n",
            "       Valid       0.89      0.95      0.92       994\n",
            "      Attack       0.95      0.89      0.92      1007\n",
            "\n",
            "    accuracy                           0.92      2001\n",
            "   macro avg       0.92      0.92      0.92      2001\n",
            "weighted avg       0.92      0.92      0.92      2001\n",
            "\n"
          ],
          "name": "stdout"
        }
      ]
    },
    {
      "cell_type": "code",
      "metadata": {
        "id": "TS3fwI_y5zSR",
        "colab_type": "code",
        "colab": {
          "base_uri": "https://localhost:8080/",
          "height": 243
        },
        "outputId": "5864d127-c1f0-4078-be66-d5682c2b6584"
      },
      "source": [
        "#model 2 : Logistic Regression\n",
        "model = LogisticRegression()\n",
        "model.fit(X_train,y_train)"
      ],
      "execution_count": null,
      "outputs": [
        {
          "output_type": "stream",
          "text": [
            "/usr/local/lib/python3.6/dist-packages/sklearn/linear_model/_logistic.py:940: ConvergenceWarning: lbfgs failed to converge (status=1):\n",
            "STOP: TOTAL NO. of ITERATIONS REACHED LIMIT.\n",
            "\n",
            "Increase the number of iterations (max_iter) or scale the data as shown in:\n",
            "    https://scikit-learn.org/stable/modules/preprocessing.html\n",
            "Please also refer to the documentation for alternative solver options:\n",
            "    https://scikit-learn.org/stable/modules/linear_model.html#logistic-regression\n",
            "  extra_warning_msg=_LOGISTIC_SOLVER_CONVERGENCE_MSG)\n"
          ],
          "name": "stderr"
        },
        {
          "output_type": "execute_result",
          "data": {
            "text/plain": [
              "LogisticRegression(C=1.0, class_weight=None, dual=False, fit_intercept=True,\n",
              "                   intercept_scaling=1, l1_ratio=None, max_iter=100,\n",
              "                   multi_class='auto', n_jobs=None, penalty='l2',\n",
              "                   random_state=None, solver='lbfgs', tol=0.0001, verbose=0,\n",
              "                   warm_start=False)"
            ]
          },
          "metadata": {
            "tags": []
          },
          "execution_count": 54
        }
      ]
    },
    {
      "cell_type": "code",
      "metadata": {
        "id": "QOdSYDmM511s",
        "colab_type": "code",
        "colab": {}
      },
      "source": [
        "r = model.predict(X_test)\n",
        "accuracy = accuracy_score(y_true = y_test, y_pred = r)"
      ],
      "execution_count": null,
      "outputs": []
    },
    {
      "cell_type": "code",
      "metadata": {
        "id": "y6GJdT6X55F3",
        "colab_type": "code",
        "colab": {
          "base_uri": "https://localhost:8080/",
          "height": 330
        },
        "outputId": "dba53c1c-5ff8-4bf1-8a6c-81720524b6e7"
      },
      "source": [
        "print(\"Logistic Regression Classifier :\")\n",
        "print(\"Accuracy :\", accuracy)\n",
        "print(\"Precision Score :\", precision_score(y_test, r, average = 'weighted'))\n",
        "print(\"Recall score :\", recall_score(y_test, r, average = 'weighted'))\n",
        "print(\"F1 - score :\", f1_score(y_test, r, average = 'weighted'))\n",
        "print(\"Confusion Matrix :\\n\",confusion_matrix(y_test, r))\n",
        "print(\"Classification Report :\\n\",classification_report(y_test, r, target_names=class_set))"
      ],
      "execution_count": null,
      "outputs": [
        {
          "output_type": "stream",
          "text": [
            "Logistic Regression Classifier :\n",
            "Accuracy : 0.9435282358820589\n",
            "Precision Score : 0.9441892340046228\n",
            "Recall score : 0.9435282358820589\n",
            "F1 - score : 0.9434996139783035\n",
            "Confusion Matrix :\n",
            " [[918  76]\n",
            " [ 37 970]]\n",
            "Classification Report :\n",
            "               precision    recall  f1-score   support\n",
            "\n",
            "       Valid       0.96      0.92      0.94       994\n",
            "      Attack       0.93      0.96      0.94      1007\n",
            "\n",
            "    accuracy                           0.94      2001\n",
            "   macro avg       0.94      0.94      0.94      2001\n",
            "weighted avg       0.94      0.94      0.94      2001\n",
            "\n"
          ],
          "name": "stdout"
        }
      ]
    },
    {
      "cell_type": "code",
      "metadata": {
        "id": "lGBboUOT57xN",
        "colab_type": "code",
        "colab": {
          "base_uri": "https://localhost:8080/",
          "height": 121
        },
        "outputId": "6d7ae4a8-1241-4576-88c0-efa6c3fa3122"
      },
      "source": [
        "#Model 3: Stochastic Gradient Descent Classifier\n",
        "from sklearn.linear_model import SGDClassifier\n",
        "model = SGDClassifier()\n",
        "model.fit(X_train, y_train)"
      ],
      "execution_count": null,
      "outputs": [
        {
          "output_type": "execute_result",
          "data": {
            "text/plain": [
              "SGDClassifier(alpha=0.0001, average=False, class_weight=None,\n",
              "              early_stopping=False, epsilon=0.1, eta0=0.0, fit_intercept=True,\n",
              "              l1_ratio=0.15, learning_rate='optimal', loss='hinge',\n",
              "              max_iter=1000, n_iter_no_change=5, n_jobs=None, penalty='l2',\n",
              "              power_t=0.5, random_state=None, shuffle=True, tol=0.001,\n",
              "              validation_fraction=0.1, verbose=0, warm_start=False)"
            ]
          },
          "metadata": {
            "tags": []
          },
          "execution_count": 57
        }
      ]
    },
    {
      "cell_type": "code",
      "metadata": {
        "id": "bvnJcVxB5__5",
        "colab_type": "code",
        "colab": {
          "base_uri": "https://localhost:8080/",
          "height": 34
        },
        "outputId": "c535638d-be00-4250-a04b-787b959b1c23"
      },
      "source": [
        "r = model.predict(X_test)\n",
        "accuracy = accuracy_score(y_true = y_test, y_pred = r)\n",
        "print(accuracy)"
      ],
      "execution_count": null,
      "outputs": [
        {
          "output_type": "stream",
          "text": [
            "0.952023988005997\n"
          ],
          "name": "stdout"
        }
      ]
    },
    {
      "cell_type": "code",
      "metadata": {
        "id": "mEB0TVAI6BKb",
        "colab_type": "code",
        "colab": {
          "base_uri": "https://localhost:8080/",
          "height": 330
        },
        "outputId": "c7e14bbf-f51b-4001-ab6f-d8081bc7705a"
      },
      "source": [
        "print(\"Stochastic Gradient Descent Classifier :\")\n",
        "print(\"Accuracy :\", accuracy)\n",
        "print(\"Precision Score :\", precision_score(y_test, r, average = 'weighted'))\n",
        "print(\"Recall score :\", recall_score(y_test, r, average = 'weighted'))\n",
        "print(\"F1 - score :\", f1_score(y_test, r, average = 'weighted'))\n",
        "print(\"Confusion Matrix :\\n\",confusion_matrix(y_test, r))\n",
        "print(\"Classification Report :\\n\",classification_report(y_test, r, target_names=class_set))"
      ],
      "execution_count": null,
      "outputs": [
        {
          "output_type": "stream",
          "text": [
            "Stochastic Gradient Descent Classifier :\n",
            "Accuracy : 0.952023988005997\n",
            "Precision Score : 0.9521985087124698\n",
            "Recall score : 0.952023988005997\n",
            "F1 - score : 0.9520160777227042\n",
            "Confusion Matrix :\n",
            " [[936  58]\n",
            " [ 38 969]]\n",
            "Classification Report :\n",
            "               precision    recall  f1-score   support\n",
            "\n",
            "       Valid       0.96      0.94      0.95       994\n",
            "      Attack       0.94      0.96      0.95      1007\n",
            "\n",
            "    accuracy                           0.95      2001\n",
            "   macro avg       0.95      0.95      0.95      2001\n",
            "weighted avg       0.95      0.95      0.95      2001\n",
            "\n"
          ],
          "name": "stdout"
        }
      ]
    },
    {
      "cell_type": "code",
      "metadata": {
        "id": "f5gucfEM6DNh",
        "colab_type": "code",
        "colab": {
          "base_uri": "https://localhost:8080/",
          "height": 121
        },
        "outputId": "04afc364-533b-4725-f5fd-cbee466243cd"
      },
      "source": [
        "#Model4: Decision Tree Classifier\n",
        "from sklearn import tree\n",
        "model = tree.DecisionTreeClassifier()\n",
        "model.fit(X_train, y_train)"
      ],
      "execution_count": null,
      "outputs": [
        {
          "output_type": "execute_result",
          "data": {
            "text/plain": [
              "DecisionTreeClassifier(ccp_alpha=0.0, class_weight=None, criterion='gini',\n",
              "                       max_depth=None, max_features=None, max_leaf_nodes=None,\n",
              "                       min_impurity_decrease=0.0, min_impurity_split=None,\n",
              "                       min_samples_leaf=1, min_samples_split=2,\n",
              "                       min_weight_fraction_leaf=0.0, presort='deprecated',\n",
              "                       random_state=None, splitter='best')"
            ]
          },
          "metadata": {
            "tags": []
          },
          "execution_count": 60
        }
      ]
    },
    {
      "cell_type": "code",
      "metadata": {
        "id": "a-ZJ17HT6Fi6",
        "colab_type": "code",
        "colab": {
          "base_uri": "https://localhost:8080/",
          "height": 34
        },
        "outputId": "8d2589b9-054c-4883-c7df-ad26e7c41d87"
      },
      "source": [
        "r = model.predict(X_test)\n",
        "accuracy = accuracy_score(y_true = y_test, y_pred = r)\n",
        "print(accuracy)"
      ],
      "execution_count": null,
      "outputs": [
        {
          "output_type": "stream",
          "text": [
            "0.9270364817591205\n"
          ],
          "name": "stdout"
        }
      ]
    },
    {
      "cell_type": "code",
      "metadata": {
        "id": "TfKDdRWh6HuY",
        "colab_type": "code",
        "colab": {
          "base_uri": "https://localhost:8080/",
          "height": 330
        },
        "outputId": "08f209a2-5ec9-4cda-ae28-4c65fc0227fb"
      },
      "source": [
        "print(\"Decision Tree Classifier :\")\n",
        "print(\"Accuracy :\", accuracy)\n",
        "print(\"Precision Score :\", precision_score(y_test, r, average = 'weighted'))\n",
        "print(\"Recall score :\", recall_score(y_test, r, average = 'weighted'))\n",
        "print(\"F1 - score :\", f1_score(y_test, r, average = 'weighted'))\n",
        "print(\"Confusion Matrix :\\n\",confusion_matrix(y_test, r))\n",
        "print(\"Classification Report :\\n\",classification_report(y_test, r, target_names=class_set))"
      ],
      "execution_count": null,
      "outputs": [
        {
          "output_type": "stream",
          "text": [
            "Decision Tree Classifier :\n",
            "Accuracy : 0.9270364817591205\n",
            "Precision Score : 0.9272710560435682\n",
            "Recall score : 0.9270364817591205\n",
            "F1 - score : 0.9270202945092814\n",
            "Confusion Matrix :\n",
            " [[909  85]\n",
            " [ 61 946]]\n",
            "Classification Report :\n",
            "               precision    recall  f1-score   support\n",
            "\n",
            "       Valid       0.94      0.91      0.93       994\n",
            "      Attack       0.92      0.94      0.93      1007\n",
            "\n",
            "    accuracy                           0.93      2001\n",
            "   macro avg       0.93      0.93      0.93      2001\n",
            "weighted avg       0.93      0.93      0.93      2001\n",
            "\n"
          ],
          "name": "stdout"
        }
      ]
    },
    {
      "cell_type": "code",
      "metadata": {
        "id": "kCsKRwGCxta0",
        "colab_type": "code",
        "colab": {}
      },
      "source": [
        ""
      ],
      "execution_count": null,
      "outputs": []
    }
  ]
}