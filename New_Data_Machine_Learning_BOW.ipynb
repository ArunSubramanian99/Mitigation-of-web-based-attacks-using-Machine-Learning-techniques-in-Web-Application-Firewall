{
  "nbformat": 4,
  "nbformat_minor": 0,
  "metadata": {
    "kernelspec": {
      "display_name": "Python 3",
      "language": "python",
      "name": "python3"
    },
    "language_info": {
      "codemirror_mode": {
        "name": "ipython",
        "version": 3
      },
      "file_extension": ".py",
      "mimetype": "text/x-python",
      "name": "python",
      "nbconvert_exporter": "python",
      "pygments_lexer": "ipython3",
      "version": "3.7.4"
    },
    "colab": {
      "name": "New_Data_Machine Learning_BOW.ipynb",
      "provenance": []
    }
  },
  "cells": [
    {
      "cell_type": "code",
      "metadata": {
        "id": "S4mr1KfDclRJ",
        "colab_type": "code",
        "colab": {}
      },
      "source": [
        "#import packages\n",
        "import pandas as pd\n",
        "from sklearn.feature_extraction.text import CountVectorizer\n",
        "import numpy as np\n",
        "from sklearn import metrics\n",
        "from sklearn.linear_model import RidgeClassifier, LogisticRegression\n",
        "from sklearn.metrics import accuracy_score\n",
        "import tensorflow as tf\n",
        "from sklearn.preprocessing import LabelEncoder\n",
        "from sklearn.model_selection import train_test_split\n",
        "from sklearn.metrics import classification_report\n",
        "from sklearn.metrics import confusion_matrix\n",
        "from sklearn.metrics import precision_score\n",
        "from sklearn.metrics import recall_score\n",
        "from sklearn.metrics import f1_score"
      ],
      "execution_count": null,
      "outputs": []
    },
    {
      "cell_type": "code",
      "metadata": {
        "id": "-UqtbqDIclRb",
        "colab_type": "code",
        "colab": {
          "base_uri": "https://localhost:8080/",
          "height": 124
        },
        "outputId": "809777fe-4549-499e-9cbf-5baea27cddf6"
      },
      "source": [
        "#mounting google drive on colab notebook\n",
        "from google.colab import drive\n",
        "drive.mount('/d')\n"
      ],
      "execution_count": null,
      "outputs": [
        {
          "output_type": "stream",
          "text": [
            "Go to this URL in a browser: https://accounts.google.com/o/oauth2/auth?client_id=947318989803-6bn6qk8qdgf4n4g3pfee6491hc0brc4i.apps.googleusercontent.com&redirect_uri=urn%3aietf%3awg%3aoauth%3a2.0%3aoob&scope=email%20https%3a%2f%2fwww.googleapis.com%2fauth%2fdocs.test%20https%3a%2f%2fwww.googleapis.com%2fauth%2fdrive%20https%3a%2f%2fwww.googleapis.com%2fauth%2fdrive.photos.readonly%20https%3a%2f%2fwww.googleapis.com%2fauth%2fpeopleapi.readonly&response_type=code\n",
            "\n",
            "Enter your authorization code:\n",
            "··········\n",
            "Mounted at /d\n"
          ],
          "name": "stdout"
        }
      ]
    },
    {
      "cell_type": "code",
      "metadata": {
        "id": "XKdqKvmEcsbN",
        "colab_type": "code",
        "colab": {}
      },
      "source": [
        "#reading data from csv file\n",
        "data1 = pd.read_csv(\"/d/My Drive/New_Data_fully_formatted.csv\")"
      ],
      "execution_count": null,
      "outputs": []
    },
    {
      "cell_type": "code",
      "metadata": {
        "id": "RxLbd7EyclRr",
        "colab_type": "code",
        "colab": {}
      },
      "source": [
        "X = data1.loc[:,['GET','POST','POST Body']]\n",
        "y = data1.loc[:,['Class']]"
      ],
      "execution_count": null,
      "outputs": []
    },
    {
      "cell_type": "code",
      "metadata": {
        "id": "cZMexKa6clSA",
        "colab_type": "code",
        "colab": {
          "base_uri": "https://localhost:8080/",
          "height": 34
        },
        "outputId": "fe05440e-c7b7-46c0-f62d-8d05d699d991"
      },
      "source": [
        "#checking the number of classes in the data\n",
        "class_set = set(y['Class'].tolist())\n",
        "print(class_set)"
      ],
      "execution_count": null,
      "outputs": [
        {
          "output_type": "stream",
          "text": [
            "{'Attack', 'Valid'}\n"
          ],
          "name": "stdout"
        }
      ]
    },
    {
      "cell_type": "code",
      "metadata": {
        "id": "gvcxbyWzclSL",
        "colab_type": "code",
        "colab": {}
      },
      "source": [
        "label_encoder = LabelEncoder()\n",
        "y = np.array(label_encoder.fit_transform(y['Class']))"
      ],
      "execution_count": null,
      "outputs": []
    },
    {
      "cell_type": "code",
      "metadata": {
        "id": "rSDJ6HfQclSW",
        "colab_type": "code",
        "colab": {}
      },
      "source": [
        "#fil the nans with 0\n",
        "X.fillna(0, inplace = True)\n",
        "\n",
        "#iterate through each row and remove redundant chunks of text from the 3 columns\n",
        "for i,rows in X.iterrows():\n",
        "    l = []\n",
        "    for j in rows:\n",
        "        #print(j)\n",
        "        if j!=0:\n",
        "            if j.startswith('//localhost:8080/tienda1/'):\n",
        "                j = j[len('//localhost:8080/tienda1/') :]\n",
        "            if j.endswith(' HTTP/1.1'):\n",
        "                j = j[:len(j)-len(' HTTP/1.1')]\n",
        "            l.append(j)\n",
        "        else:\n",
        "            l.append(str(j))\n",
        "   # print(l)\n",
        "    X.replace(to_replace = rows[0], value = l[0], inplace = True) \n",
        "    X.replace(to_replace = rows[1], value = l[1], inplace = True) \n",
        "    X.replace(to_replace = rows[2], value = l[2], inplace = True)\n",
        "    "
      ],
      "execution_count": null,
      "outputs": []
    },
    {
      "cell_type": "code",
      "metadata": {
        "id": "c_46uIOdclSh",
        "colab_type": "code",
        "colab": {
          "base_uri": "https://localhost:8080/",
          "height": 363
        },
        "outputId": "bc8ac8aa-e43d-4963-ec37-763018f3c5cb"
      },
      "source": [
        "X.head(10)"
      ],
      "execution_count": null,
      "outputs": [
        {
          "output_type": "execute_result",
          "data": {
            "text/html": [
              "<div>\n",
              "<style scoped>\n",
              "    .dataframe tbody tr th:only-of-type {\n",
              "        vertical-align: middle;\n",
              "    }\n",
              "\n",
              "    .dataframe tbody tr th {\n",
              "        vertical-align: top;\n",
              "    }\n",
              "\n",
              "    .dataframe thead th {\n",
              "        text-align: right;\n",
              "    }\n",
              "</style>\n",
              "<table border=\"1\" class=\"dataframe\">\n",
              "  <thead>\n",
              "    <tr style=\"text-align: right;\">\n",
              "      <th></th>\n",
              "      <th>GET</th>\n",
              "      <th>POST</th>\n",
              "      <th>POST Body</th>\n",
              "    </tr>\n",
              "  </thead>\n",
              "  <tbody>\n",
              "    <tr>\n",
              "      <th>0</th>\n",
              "      <td>0</td>\n",
              "      <td>/rest/user/login</td>\n",
              "      <td>nanemail:&lt;iframe src=\\\"javascript:alert(`xss`)...</td>\n",
              "    </tr>\n",
              "    <tr>\n",
              "      <th>1</th>\n",
              "      <td>0</td>\n",
              "      <td>/rest/user/login</td>\n",
              "      <td>nanemail:AND (SELECT * FROM (SELECT(SLEEP(5)))...</td>\n",
              "    </tr>\n",
              "    <tr>\n",
              "      <th>2</th>\n",
              "      <td>0</td>\n",
              "      <td>/rest/user/login</td>\n",
              "      <td>nanemail:UNION ALL SELECT 1,2,3,4,5,6,7,8,9,10...</td>\n",
              "    </tr>\n",
              "    <tr>\n",
              "      <th>3</th>\n",
              "      <td>0</td>\n",
              "      <td>rest/user/login</td>\n",
              "      <td>nanemail:@@VERSION,SLEEP(5),USER(),BENCHMARK(1...</td>\n",
              "    </tr>\n",
              "    <tr>\n",
              "      <th>4</th>\n",
              "      <td>0</td>\n",
              "      <td>/rest/user/login</td>\n",
              "      <td>nanemail:UNION SELECT @@VERSION,SLEEP(5),USER(...</td>\n",
              "    </tr>\n",
              "    <tr>\n",
              "      <th>5</th>\n",
              "      <td>0</td>\n",
              "      <td>/rest/user/login</td>\n",
              "      <td>nanemail:@@VERSION,USER(),SLEEP(5),BENCHMARK(1...</td>\n",
              "    </tr>\n",
              "    <tr>\n",
              "      <th>6</th>\n",
              "      <td>0</td>\n",
              "      <td>/rest/user/login</td>\n",
              "      <td>nanemail:@@VERSION,USER(),SLEEP(5),BENCHMARK(1...</td>\n",
              "    </tr>\n",
              "    <tr>\n",
              "      <th>7</th>\n",
              "      <td>0</td>\n",
              "      <td>/rest/user/login</td>\n",
              "      <td>nanemail:UNION ALL SELECT 'INJ'||'ECT'||'XXX',...</td>\n",
              "    </tr>\n",
              "    <tr>\n",
              "      <th>8</th>\n",
              "      <td>0</td>\n",
              "      <td>/rest/user/login</td>\n",
              "      <td>nanemail:VU5JT04gQUxMIFNFTEVDVCAnSU5KJ3x8J0VDV...</td>\n",
              "    </tr>\n",
              "    <tr>\n",
              "      <th>9</th>\n",
              "      <td>0</td>\n",
              "      <td>/rest/user/login</td>\n",
              "      <td>nanemail:%55%4e%49%4f%4e%20%41%4c%4c%20%53%45%...</td>\n",
              "    </tr>\n",
              "  </tbody>\n",
              "</table>\n",
              "</div>"
            ],
            "text/plain": [
              "  GET               POST                                          POST Body\n",
              "0   0   /rest/user/login  nanemail:<iframe src=\\\"javascript:alert(`xss`)...\n",
              "1   0   /rest/user/login  nanemail:AND (SELECT * FROM (SELECT(SLEEP(5)))...\n",
              "2   0   /rest/user/login  nanemail:UNION ALL SELECT 1,2,3,4,5,6,7,8,9,10...\n",
              "3   0    rest/user/login  nanemail:@@VERSION,SLEEP(5),USER(),BENCHMARK(1...\n",
              "4   0   /rest/user/login  nanemail:UNION SELECT @@VERSION,SLEEP(5),USER(...\n",
              "5   0   /rest/user/login  nanemail:@@VERSION,USER(),SLEEP(5),BENCHMARK(1...\n",
              "6   0   /rest/user/login  nanemail:@@VERSION,USER(),SLEEP(5),BENCHMARK(1...\n",
              "7   0   /rest/user/login  nanemail:UNION ALL SELECT 'INJ'||'ECT'||'XXX',...\n",
              "8   0   /rest/user/login  nanemail:VU5JT04gQUxMIFNFTEVDVCAnSU5KJ3x8J0VDV...\n",
              "9   0   /rest/user/login  nanemail:%55%4e%49%4f%4e%20%41%4c%4c%20%53%45%..."
            ]
          },
          "metadata": {
            "tags": []
          },
          "execution_count": 8
        }
      ]
    },
    {
      "cell_type": "code",
      "metadata": {
        "id": "0YT369Q6clSq",
        "colab_type": "code",
        "colab": {}
      },
      "source": [
        "#the data in both the columns are decoded\n",
        "from urllib.parse import unquote\n",
        "for i,rows in X.iterrows():\n",
        "    if rows[0] != '0' :\n",
        "        rows[0] = unquote(rows[0])\n",
        "    if rows[1] != '0':\n",
        "        rows[1] = unquote(rows[1])\n",
        "    if rows[2] != '0':\n",
        "        rows[2] = unquote(rows[2])\n",
        "  "
      ],
      "execution_count": null,
      "outputs": []
    },
    {
      "cell_type": "code",
      "metadata": {
        "id": "y8WoLanWclS0",
        "colab_type": "code",
        "colab": {}
      },
      "source": [
        "vectorizer = CountVectorizer()  \n",
        "vectorizer1 = CountVectorizer()\n",
        "vectorizer2 = CountVectorizer()"
      ],
      "execution_count": null,
      "outputs": []
    },
    {
      "cell_type": "code",
      "metadata": {
        "id": "nOZTpPhPclS8",
        "colab_type": "code",
        "colab": {}
      },
      "source": [
        "vectorizer.fit(X['GET'])\n",
        "#print(vectorizer.vocabulary_)\n",
        "vector = vectorizer.transform(X['GET']).toarray()"
      ],
      "execution_count": null,
      "outputs": []
    },
    {
      "cell_type": "code",
      "metadata": {
        "id": "f-WYS4OiclTF",
        "colab_type": "code",
        "colab": {}
      },
      "source": [
        "vectorizer1.fit(X['POST'])\n",
        "#print(vectorizer1.vocabulary_)\n",
        "vector1 = vectorizer1.transform(X['POST']).toarray()"
      ],
      "execution_count": null,
      "outputs": []
    },
    {
      "cell_type": "code",
      "metadata": {
        "id": "XaSD74YJclTO",
        "colab_type": "code",
        "colab": {}
      },
      "source": [
        "vectorizer2.fit(X['POST Body'])\n",
        "#print(vectorizer2.vocabulary_)\n",
        "vector2 = vectorizer2.transform(X['POST Body']).toarray()"
      ],
      "execution_count": null,
      "outputs": []
    },
    {
      "cell_type": "code",
      "metadata": {
        "id": "zc5RhXUSclTV",
        "colab_type": "code",
        "colab": {}
      },
      "source": [
        "X_train = np.concatenate((vector,vector1,vector2),axis = 1)\n",
        "y_train = np.reshape(y,(len(data1,)))\n"
      ],
      "execution_count": null,
      "outputs": []
    },
    {
      "cell_type": "code",
      "metadata": {
        "id": "bqHNoezfclTf",
        "colab_type": "code",
        "colab": {
          "base_uri": "https://localhost:8080/",
          "height": 52
        },
        "outputId": "e6791c3d-3d41-40ca-e05d-d47c4a3343bc"
      },
      "source": [
        "print(X_train.shape)\n",
        "print(y_train.shape)\n"
      ],
      "execution_count": null,
      "outputs": [
        {
          "output_type": "stream",
          "text": [
            "(208, 850)\n",
            "(208,)\n"
          ],
          "name": "stdout"
        }
      ]
    },
    {
      "cell_type": "code",
      "metadata": {
        "id": "PQey2WhJclTm",
        "colab_type": "code",
        "colab": {}
      },
      "source": [
        "#splitting data into train and test data\n",
        "X_train, X_test, y_train, y_test = train_test_split(X_train, y_train, test_size=0.20)"
      ],
      "execution_count": null,
      "outputs": []
    },
    {
      "cell_type": "code",
      "metadata": {
        "id": "pRtONRsAclTt",
        "colab_type": "code",
        "colab": {
          "base_uri": "https://localhost:8080/",
          "height": 156
        },
        "outputId": "49f2fb62-ce9e-4e7c-801a-df8e601b4aa8"
      },
      "source": [
        "from sklearn.neural_network import MLPClassifier\n",
        "model = MLPClassifier(solver='lbfgs', alpha=1e-5, hidden_layer_sizes=(5, 2), random_state=1)\n",
        "model.fit(X_train, y_train)"
      ],
      "execution_count": null,
      "outputs": [
        {
          "output_type": "execute_result",
          "data": {
            "text/plain": [
              "MLPClassifier(activation='relu', alpha=1e-05, batch_size='auto', beta_1=0.9,\n",
              "              beta_2=0.999, early_stopping=False, epsilon=1e-08,\n",
              "              hidden_layer_sizes=(5, 2), learning_rate='constant',\n",
              "              learning_rate_init=0.001, max_fun=15000, max_iter=200,\n",
              "              momentum=0.9, n_iter_no_change=10, nesterovs_momentum=True,\n",
              "              power_t=0.5, random_state=1, shuffle=True, solver='lbfgs',\n",
              "              tol=0.0001, validation_fraction=0.1, verbose=False,\n",
              "              warm_start=False)"
            ]
          },
          "metadata": {
            "tags": []
          },
          "execution_count": 57
        }
      ]
    },
    {
      "cell_type": "code",
      "metadata": {
        "id": "0Qwe4LTsclT0",
        "colab_type": "code",
        "colab": {}
      },
      "source": [
        "r = model.predict(X_test)\n",
        "accuracy = accuracy_score(y_true = y_test, y_pred = r)"
      ],
      "execution_count": null,
      "outputs": []
    },
    {
      "cell_type": "code",
      "metadata": {
        "id": "2f-vFwMEclT6",
        "colab_type": "code",
        "colab": {
          "base_uri": "https://localhost:8080/",
          "height": 330
        },
        "outputId": "beb45b83-e9bd-4a44-ce76-c446c055d945"
      },
      "source": [
        "print(\"MLP Classifier :\")\n",
        "print(\"Accuracy :\", accuracy)\n",
        "print(\"Precision Score :\", precision_score(y_test, r, average = 'weighted'))\n",
        "print(\"Recall score :\", recall_score(y_test, r, average = 'weighted'))\n",
        "print(\"F1 - score :\", f1_score(y_test, r, average = 'weighted'))\n",
        "print(\"Confusion Matrix :\\n\",confusion_matrix(y_test, r))\n",
        "print(\"Classification Report :\\n\",classification_report(y_test, r, target_names=class_set))"
      ],
      "execution_count": null,
      "outputs": [
        {
          "output_type": "stream",
          "text": [
            "MLP Classifier :\n",
            "Accuracy : 0.8571428571428571\n",
            "Precision Score : 0.8571428571428571\n",
            "Recall score : 0.8571428571428571\n",
            "F1 - score : 0.8571428571428571\n",
            "Confusion Matrix :\n",
            " [[23  3]\n",
            " [ 3 13]]\n",
            "Classification Report :\n",
            "               precision    recall  f1-score   support\n",
            "\n",
            "      Attack       0.88      0.88      0.88        26\n",
            "       Valid       0.81      0.81      0.81        16\n",
            "\n",
            "    accuracy                           0.86        42\n",
            "   macro avg       0.85      0.85      0.85        42\n",
            "weighted avg       0.86      0.86      0.86        42\n",
            "\n"
          ],
          "name": "stdout"
        }
      ]
    },
    {
      "cell_type": "code",
      "metadata": {
        "id": "m-xu4lYmdK7d",
        "colab_type": "code",
        "colab": {
          "base_uri": "https://localhost:8080/",
          "height": 156
        },
        "outputId": "e812daa4-910b-4232-f87b-c7390b8a9b41"
      },
      "source": [
        "#Model 1: Random Forest Classifier\n",
        "from sklearn.ensemble import RandomForestClassifier\n",
        "model = RandomForestClassifier()\n",
        "model.fit(X_train, y_train)"
      ],
      "execution_count": null,
      "outputs": [
        {
          "output_type": "execute_result",
          "data": {
            "text/plain": [
              "RandomForestClassifier(bootstrap=True, ccp_alpha=0.0, class_weight=None,\n",
              "                       criterion='gini', max_depth=None, max_features='auto',\n",
              "                       max_leaf_nodes=None, max_samples=None,\n",
              "                       min_impurity_decrease=0.0, min_impurity_split=None,\n",
              "                       min_samples_leaf=1, min_samples_split=2,\n",
              "                       min_weight_fraction_leaf=0.0, n_estimators=100,\n",
              "                       n_jobs=None, oob_score=False, random_state=None,\n",
              "                       verbose=0, warm_start=False)"
            ]
          },
          "metadata": {
            "tags": []
          },
          "execution_count": 60
        }
      ]
    },
    {
      "cell_type": "code",
      "metadata": {
        "id": "QhpJb3X3dQbU",
        "colab_type": "code",
        "colab": {}
      },
      "source": [
        "r = model.predict(X_test)\n",
        "accuracy = accuracy_score(y_true = y_test, y_pred = r)"
      ],
      "execution_count": null,
      "outputs": []
    },
    {
      "cell_type": "code",
      "metadata": {
        "id": "H4oyqoBEdSu8",
        "colab_type": "code",
        "colab": {
          "base_uri": "https://localhost:8080/",
          "height": 330
        },
        "outputId": "f013d55e-9861-4f34-e9c2-6ba23b74c0ab"
      },
      "source": [
        "print(\"Random Forest Classifier :\")\n",
        "print(\"Accuracy :\", accuracy)\n",
        "print(\"Precision Score :\", precision_score(y_test, r, average = 'weighted'))\n",
        "print(\"Recall score :\", recall_score(y_test, r, average = 'weighted'))\n",
        "print(\"F1 - score :\", f1_score(y_test, r, average = 'weighted'))\n",
        "print(\"Confusion Matrix :\\n\",confusion_matrix(y_test, r))\n",
        "print(\"Classification Report :\\n\",classification_report(y_test, r, target_names=class_set))"
      ],
      "execution_count": null,
      "outputs": [
        {
          "output_type": "stream",
          "text": [
            "Random Forest Classifier :\n",
            "Accuracy : 0.9047619047619048\n",
            "Precision Score : 0.9107142857142857\n",
            "Recall score : 0.9047619047619048\n",
            "F1 - score : 0.905658263305322\n",
            "Confusion Matrix :\n",
            " [[23  3]\n",
            " [ 1 15]]\n",
            "Classification Report :\n",
            "               precision    recall  f1-score   support\n",
            "\n",
            "      Attack       0.96      0.88      0.92        26\n",
            "       Valid       0.83      0.94      0.88        16\n",
            "\n",
            "    accuracy                           0.90        42\n",
            "   macro avg       0.90      0.91      0.90        42\n",
            "weighted avg       0.91      0.90      0.91        42\n",
            "\n"
          ],
          "name": "stdout"
        }
      ]
    },
    {
      "cell_type": "code",
      "metadata": {
        "id": "MJX6c8QGdU-v",
        "colab_type": "code",
        "colab": {
          "base_uri": "https://localhost:8080/",
          "height": 104
        },
        "outputId": "d9414e6e-d2b4-479c-96c4-41f459fd2da9"
      },
      "source": [
        "#model 2 : Logistic Regression\n",
        "model = LogisticRegression()\n",
        "model.fit(X_train,y_train)"
      ],
      "execution_count": null,
      "outputs": [
        {
          "output_type": "execute_result",
          "data": {
            "text/plain": [
              "LogisticRegression(C=1.0, class_weight=None, dual=False, fit_intercept=True,\n",
              "                   intercept_scaling=1, l1_ratio=None, max_iter=100,\n",
              "                   multi_class='auto', n_jobs=None, penalty='l2',\n",
              "                   random_state=None, solver='lbfgs', tol=0.0001, verbose=0,\n",
              "                   warm_start=False)"
            ]
          },
          "metadata": {
            "tags": []
          },
          "execution_count": 63
        }
      ]
    },
    {
      "cell_type": "code",
      "metadata": {
        "id": "CsXdT2QTdXo7",
        "colab_type": "code",
        "colab": {
          "base_uri": "https://localhost:8080/",
          "height": 34
        },
        "outputId": "61105345-451c-4f44-f7dc-40659a9c04f2"
      },
      "source": [
        "r = model.predict(X_test)\n",
        "accuracy = accuracy_score(y_true = y_test, y_pred = r)\n",
        "print(accuracy)"
      ],
      "execution_count": null,
      "outputs": [
        {
          "output_type": "stream",
          "text": [
            "0.8809523809523809\n"
          ],
          "name": "stdout"
        }
      ]
    },
    {
      "cell_type": "code",
      "metadata": {
        "id": "Weolxjh9ddqO",
        "colab_type": "code",
        "colab": {
          "base_uri": "https://localhost:8080/",
          "height": 330
        },
        "outputId": "b8e206d3-b9a3-4f0a-93d2-257eba79c531"
      },
      "source": [
        "print(\"Logistic Regression Classifier :\")\n",
        "print(\"Accuracy :\", accuracy)\n",
        "print(\"Precision Score :\", precision_score(y_test, r, average = 'weighted'))\n",
        "print(\"Recall score :\", recall_score(y_test, r, average = 'weighted'))\n",
        "print(\"F1 - score :\", f1_score(y_test, r, average = 'weighted'))\n",
        "print(\"Confusion Matrix :\\n\",confusion_matrix(y_test, r))\n",
        "print(\"Classification Report :\\n\",classification_report(y_test, r, target_names=class_set))"
      ],
      "execution_count": null,
      "outputs": [
        {
          "output_type": "stream",
          "text": [
            "Logistic Regression Classifier :\n",
            "Accuracy : 0.8809523809523809\n",
            "Precision Score : 0.8832492997198879\n",
            "Recall score : 0.8809523809523809\n",
            "F1 - score : 0.8815889992360582\n",
            "Confusion Matrix :\n",
            " [[23  3]\n",
            " [ 2 14]]\n",
            "Classification Report :\n",
            "               precision    recall  f1-score   support\n",
            "\n",
            "      Attack       0.92      0.88      0.90        26\n",
            "       Valid       0.82      0.88      0.85        16\n",
            "\n",
            "    accuracy                           0.88        42\n",
            "   macro avg       0.87      0.88      0.88        42\n",
            "weighted avg       0.88      0.88      0.88        42\n",
            "\n"
          ],
          "name": "stdout"
        }
      ]
    },
    {
      "cell_type": "code",
      "metadata": {
        "id": "RgnEFh1udZ9m",
        "colab_type": "code",
        "colab": {
          "base_uri": "https://localhost:8080/",
          "height": 121
        },
        "outputId": "5065574d-2d7e-4878-f9cf-3b42c751cdc6"
      },
      "source": [
        "#Model 3: Stochastic Gradient Descent Classifier\n",
        "from sklearn.linear_model import SGDClassifier\n",
        "model = SGDClassifier()\n",
        "model.fit(X_train, y_train)"
      ],
      "execution_count": null,
      "outputs": [
        {
          "output_type": "execute_result",
          "data": {
            "text/plain": [
              "SGDClassifier(alpha=0.0001, average=False, class_weight=None,\n",
              "              early_stopping=False, epsilon=0.1, eta0=0.0, fit_intercept=True,\n",
              "              l1_ratio=0.15, learning_rate='optimal', loss='hinge',\n",
              "              max_iter=1000, n_iter_no_change=5, n_jobs=None, penalty='l2',\n",
              "              power_t=0.5, random_state=None, shuffle=True, tol=0.001,\n",
              "              validation_fraction=0.1, verbose=0, warm_start=False)"
            ]
          },
          "metadata": {
            "tags": []
          },
          "execution_count": 66
        }
      ]
    },
    {
      "cell_type": "code",
      "metadata": {
        "id": "Ut_2LZpDdgbn",
        "colab_type": "code",
        "colab": {
          "base_uri": "https://localhost:8080/",
          "height": 34
        },
        "outputId": "2d462dfc-4f2b-4ade-9532-b3a6229bc165"
      },
      "source": [
        "r = model.predict(X_test)\n",
        "accuracy = accuracy_score(y_true = y_test, y_pred = r)\n",
        "print(accuracy)"
      ],
      "execution_count": null,
      "outputs": [
        {
          "output_type": "stream",
          "text": [
            "0.9047619047619048\n"
          ],
          "name": "stdout"
        }
      ]
    },
    {
      "cell_type": "code",
      "metadata": {
        "id": "2HxG9peoding",
        "colab_type": "code",
        "colab": {
          "base_uri": "https://localhost:8080/",
          "height": 330
        },
        "outputId": "a49cca1d-05fa-4c5f-d816-c52de058dc5e"
      },
      "source": [
        "print(\"Stochastic Gradient Descent Classifier :\")\n",
        "print(\"Accuracy :\", accuracy)\n",
        "print(\"Precision Score :\", precision_score(y_test, r, average = 'weighted'))\n",
        "print(\"Recall score :\", recall_score(y_test, r, average = 'weighted'))\n",
        "print(\"F1 - score :\", f1_score(y_test, r, average = 'weighted'))\n",
        "print(\"Confusion Matrix :\\n\",confusion_matrix(y_test, r))\n",
        "print(\"Classification Report :\\n\",classification_report(y_test, r, target_names=class_set))"
      ],
      "execution_count": null,
      "outputs": [
        {
          "output_type": "stream",
          "text": [
            "Stochastic Gradient Descent Classifier :\n",
            "Accuracy : 0.9047619047619048\n",
            "Precision Score : 0.9047619047619048\n",
            "Recall score : 0.9047619047619048\n",
            "F1 - score : 0.9047619047619048\n",
            "Confusion Matrix :\n",
            " [[24  2]\n",
            " [ 2 14]]\n",
            "Classification Report :\n",
            "               precision    recall  f1-score   support\n",
            "\n",
            "      Attack       0.92      0.92      0.92        26\n",
            "       Valid       0.88      0.88      0.88        16\n",
            "\n",
            "    accuracy                           0.90        42\n",
            "   macro avg       0.90      0.90      0.90        42\n",
            "weighted avg       0.90      0.90      0.90        42\n",
            "\n"
          ],
          "name": "stdout"
        }
      ]
    }
  ]
}