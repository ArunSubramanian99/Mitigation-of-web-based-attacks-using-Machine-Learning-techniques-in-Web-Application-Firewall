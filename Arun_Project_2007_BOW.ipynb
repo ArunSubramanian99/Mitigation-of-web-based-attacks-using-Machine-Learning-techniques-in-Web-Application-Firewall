{
  "nbformat": 4,
  "nbformat_minor": 0,
  "metadata": {
    "colab": {
      "name": "Arun_Project_2007_BOW.ipynb",
      "provenance": [],
      "collapsed_sections": []
    },
    "kernelspec": {
      "name": "python3",
      "display_name": "Python 3"
    }
  },
  "cells": [
    {
      "cell_type": "code",
      "metadata": {
        "id": "40V-dsG_L3Z5",
        "colab_type": "code",
        "colab": {}
      },
      "source": [
        "#importing packages\n",
        "import pandas as pd\n",
        "from sklearn.feature_extraction.text import CountVectorizer\n",
        "import numpy as np\n",
        "from sklearn import metrics\n",
        "from sklearn.linear_model import RidgeClassifier, LogisticRegression\n",
        "from sklearn.metrics import accuracy_score\n",
        "import tensorflow as tf\n",
        "from sklearn.preprocessing import LabelEncoder\n",
        "from sklearn.model_selection import train_test_split\n",
        "from sklearn.model_selection import GridSearchCV\n",
        "from sklearn.naive_bayes import GaussianNB\n",
        "from sklearn.metrics import classification_report\n",
        "from sklearn.metrics import confusion_matrix\n",
        "from sklearn.metrics import precision_score\n",
        "from sklearn.metrics import recall_score\n",
        "from sklearn.metrics import f1_score"
      ],
      "execution_count": null,
      "outputs": []
    },
    {
      "cell_type": "code",
      "metadata": {
        "id": "lM_zqzGPL85D",
        "colab_type": "code",
        "colab": {
          "base_uri": "https://localhost:8080/",
          "height": 34
        },
        "outputId": "287b9d55-70c0-4853-c493-aef97239f811"
      },
      "source": [
        "#mounting google drive on colab notebook\n",
        "from google.colab import drive\n",
        "drive.mount('/d')\n"
      ],
      "execution_count": null,
      "outputs": [
        {
          "output_type": "stream",
          "text": [
            "Drive already mounted at /d; to attempt to forcibly remount, call drive.mount(\"/d\", force_remount=True).\n"
          ],
          "name": "stdout"
        }
      ]
    },
    {
      "cell_type": "code",
      "metadata": {
        "id": "s1rYyAjLMCfi",
        "colab_type": "code",
        "colab": {
          "base_uri": "https://localhost:8080/",
          "height": 72
        },
        "outputId": "4d82ea94-d0f2-4f51-de7d-e1b1247bb3e8"
      },
      "source": [
        "#reading data from csv file\n",
        "data = pd.read_csv(\"/d/My Drive/Master's project code_Arun/2007/2007/Formatted Files/xml_test_formatted.csv\")"
      ],
      "execution_count": null,
      "outputs": [
        {
          "output_type": "stream",
          "text": [
            "/usr/local/lib/python3.6/dist-packages/IPython/core/interactiveshell.py:2718: DtypeWarning: Columns (36) have mixed types.Specify dtype option on import or set low_memory=False.\n",
            "  interactivity=interactivity, compiler=compiler, result=result)\n"
          ],
          "name": "stderr"
        }
      ]
    },
    {
      "cell_type": "code",
      "metadata": {
        "id": "t1Wkv_yxKRvX",
        "colab_type": "code",
        "colab": {
          "base_uri": "https://localhost:8080/",
          "height": 34
        },
        "outputId": "ffbb0457-4988-4822-ae52-a925b35029fd"
      },
      "source": [
        "#checking the number of classes in the data\n",
        "class_set = set(data['class'].tolist())\n",
        "print(class_set)"
      ],
      "execution_count": null,
      "outputs": [
        {
          "output_type": "stream",
          "text": [
            "{' OsCommanding', ' Valid', ' XPathInjection', ' SSI', ' LdapInjection', ' XSS', ' PathTransversal', ' SqlInjection'}\n"
          ],
          "name": "stdout"
        }
      ]
    },
    {
      "cell_type": "code",
      "metadata": {
        "id": "P0YWiI7-MMs_",
        "colab_type": "code",
        "colab": {
          "base_uri": "https://localhost:8080/",
          "height": 260
        },
        "outputId": "5863e2fe-fe2e-4491-ecd1-dd7497a45ea1"
      },
      "source": [
        "#extracting only 600 rows of data belonging to each class\n",
        "data1 = data.loc[data['class'].isin(class_set)].groupby('class').head(500)\n",
        "print(data1)\n"
      ],
      "execution_count": null,
      "outputs": [
        {
          "output_type": "stream",
          "text": [
            "       Unnamed: 0  ... PUT Body\n",
            "0               0  ...      NaN\n",
            "1               1  ...      NaN\n",
            "2               2  ...      NaN\n",
            "3               3  ...      NaN\n",
            "4               4  ...      NaN\n",
            "...           ...  ...      ...\n",
            "11312       11312  ...      NaN\n",
            "11313       11313  ...      NaN\n",
            "11315       11315  ...      NaN\n",
            "11319       11319  ...      NaN\n",
            "11320       11320  ...      NaN\n",
            "\n",
            "[4000 rows x 59 columns]\n"
          ],
          "name": "stdout"
        }
      ]
    },
    {
      "cell_type": "code",
      "metadata": {
        "id": "t0kgIPIhMF3H",
        "colab_type": "code",
        "colab": {}
      },
      "source": [
        "#extact only 6 columns to a new dataframe\n",
        "X = data1.loc[:,['GET','POST','POST Body','PUT','PUT Body']]\n",
        "y = data1.loc[:,['class']]"
      ],
      "execution_count": null,
      "outputs": []
    },
    {
      "cell_type": "code",
      "metadata": {
        "id": "YO8oK2kROEN2",
        "colab_type": "code",
        "colab": {}
      },
      "source": [
        "#fil the nans with 0\n",
        "X.fillna(0, inplace = True)\n",
        "X = X.astype(str)"
      ],
      "execution_count": null,
      "outputs": []
    },
    {
      "cell_type": "code",
      "metadata": {
        "id": "pAp1b2RlMN0V",
        "colab_type": "code",
        "colab": {
          "base_uri": "https://localhost:8080/",
          "height": 589
        },
        "outputId": "92626556-e893-40a3-8b92-850062171731"
      },
      "source": [
        "X.head(10)"
      ],
      "execution_count": null,
      "outputs": [
        {
          "output_type": "execute_result",
          "data": {
            "text/html": [
              "<div>\n",
              "<style scoped>\n",
              "    .dataframe tbody tr th:only-of-type {\n",
              "        vertical-align: middle;\n",
              "    }\n",
              "\n",
              "    .dataframe tbody tr th {\n",
              "        vertical-align: top;\n",
              "    }\n",
              "\n",
              "    .dataframe thead th {\n",
              "        text-align: right;\n",
              "    }\n",
              "</style>\n",
              "<table border=\"1\" class=\"dataframe\">\n",
              "  <thead>\n",
              "    <tr style=\"text-align: right;\">\n",
              "      <th></th>\n",
              "      <th>GET</th>\n",
              "      <th>POST</th>\n",
              "      <th>POST Body</th>\n",
              "      <th>PUT</th>\n",
              "      <th>PUT Body</th>\n",
              "    </tr>\n",
              "  </thead>\n",
              "  <tbody>\n",
              "    <tr>\n",
              "      <th>0</th>\n",
              "      <td>/lqlehaRus4/wREtSesTncl9tln/nI/u8ti8/L@AHchild...</td>\n",
              "      <td>0</td>\n",
              "      <td>0</td>\n",
              "      <td>0</td>\n",
              "      <td>0</td>\n",
              "    </tr>\n",
              "    <tr>\n",
              "      <th>1</th>\n",
              "      <td>/dcNF_symcnzynma/en46/tQrU2n/o10jR86coK.sDGjMe...</td>\n",
              "      <td>0</td>\n",
              "      <td>0</td>\n",
              "      <td>0</td>\n",
              "      <td>0</td>\n",
              "    </tr>\n",
              "    <tr>\n",
              "      <th>2</th>\n",
              "      <td>/ea@l/tOnimc/yf4s-cmdh/e7Ag2mql9.jpeg?uOh=sDSQ...</td>\n",
              "      <td>0</td>\n",
              "      <td>0</td>\n",
              "      <td>0</td>\n",
              "      <td>0</td>\n",
              "    </tr>\n",
              "    <tr>\n",
              "      <th>3</th>\n",
              "      <td>0</td>\n",
              "      <td>/8WvHZW3f4TMgxH_/sitdtOffnshyUettq/WO2lInQSFF0...</td>\n",
              "      <td>Max-Forwardsnannototpsfd=deleteCn&amp;a2trserdDSne...</td>\n",
              "      <td>0</td>\n",
              "      <td>0</td>\n",
              "    </tr>\n",
              "    <tr>\n",
              "      <th>4</th>\n",
              "      <td>0</td>\n",
              "      <td>/hotdekltascs/d-N/tettr8etRktst/z9minput4EqR35...</td>\n",
              "      <td>nannlmbmpea=eSddetgeciimsibn&amp;aiftr=39&amp;mst=1178...</td>\n",
              "      <td>0</td>\n",
              "      <td>0</td>\n",
              "    </tr>\n",
              "    <tr>\n",
              "      <th>5</th>\n",
              "      <td>/aKdNFrwg3/nBdttln/rJbsyUwtV7gL05HUIU/IrE/libe...</td>\n",
              "      <td>0</td>\n",
              "      <td>0</td>\n",
              "      <td>0</td>\n",
              "      <td>0</td>\n",
              "    </tr>\n",
              "    <tr>\n",
              "      <th>6</th>\n",
              "      <td>/qsosehtoaauXrmw2e/Usg.htm?1TphdpiestvReh=%29+...</td>\n",
              "      <td>0</td>\n",
              "      <td>0</td>\n",
              "      <td>0</td>\n",
              "      <td>0</td>\n",
              "    </tr>\n",
              "    <tr>\n",
              "      <th>7</th>\n",
              "      <td>0</td>\n",
              "      <td>0</td>\n",
              "      <td>0</td>\n",
              "      <td>/orbeRmTnNyoet2urere/toR/aUJ/G_YhavingmGAunall...</td>\n",
              "      <td>nanF@b8inputoptRallbF=rse&amp;gaeonrnshyss2=zs&amp;lLP...</td>\n",
              "    </tr>\n",
              "    <tr>\n",
              "      <th>8</th>\n",
              "      <td>/eiy.asp?XuRPe=Rtmsr&amp;ph5dd=u0h1otperlSe&amp;sex2tp...</td>\n",
              "      <td>0</td>\n",
              "      <td>0</td>\n",
              "      <td>0</td>\n",
              "      <td>0</td>\n",
              "    </tr>\n",
              "    <tr>\n",
              "      <th>9</th>\n",
              "      <td>/AzYnph-J2echo4Rn/esIi83.tsvoj4J/oqtiEzhrns7vy...</td>\n",
              "      <td>0</td>\n",
              "      <td>0</td>\n",
              "      <td>0</td>\n",
              "      <td>0</td>\n",
              "    </tr>\n",
              "  </tbody>\n",
              "</table>\n",
              "</div>"
            ],
            "text/plain": [
              "                                                 GET  ...                                           PUT Body\n",
              "0  /lqlehaRus4/wREtSesTncl9tln/nI/u8ti8/L@AHchild...  ...                                                  0\n",
              "1  /dcNF_symcnzynma/en46/tQrU2n/o10jR86coK.sDGjMe...  ...                                                  0\n",
              "2  /ea@l/tOnimc/yf4s-cmdh/e7Ag2mql9.jpeg?uOh=sDSQ...  ...                                                  0\n",
              "3                                                  0  ...                                                  0\n",
              "4                                                  0  ...                                                  0\n",
              "5  /aKdNFrwg3/nBdttln/rJbsyUwtV7gL05HUIU/IrE/libe...  ...                                                  0\n",
              "6  /qsosehtoaauXrmw2e/Usg.htm?1TphdpiestvReh=%29+...  ...                                                  0\n",
              "7                                                  0  ...  nanF@b8inputoptRallbF=rse&gaeonrnshyss2=zs&lLP...\n",
              "8  /eiy.asp?XuRPe=Rtmsr&ph5dd=u0h1otperlSe&sex2tp...  ...                                                  0\n",
              "9  /AzYnph-J2echo4Rn/esIi83.tsvoj4J/oqtiEzhrns7vy...  ...                                                  0\n",
              "\n",
              "[10 rows x 5 columns]"
            ]
          },
          "metadata": {
            "tags": []
          },
          "execution_count": 46
        }
      ]
    },
    {
      "cell_type": "code",
      "metadata": {
        "id": "9iZpREG2VNmu",
        "colab_type": "code",
        "colab": {}
      },
      "source": [
        "#combining the GET, POST and PUT columns into one column\n",
        "#combining the POST/PUT Body columns into one column\n",
        "#this is done for ease of computation\n",
        "X_combo = pd.DataFrame(columns = ['GET/POST/PUT','POST/PUT Body'])\n",
        "for i,rows in X.iterrows():\n",
        "  if rows[0] !='0':\n",
        "    get_value = rows[0]\n",
        "    body_value = '0'\n",
        "  elif rows[1] != '0':\n",
        "    get_value = rows[1]\n",
        "    body_value = rows[2]\n",
        "  else:\n",
        "    get_value = rows[3]\n",
        "    body_value = rows[4]\n",
        "  X_combo = X_combo.append({'GET/POST/PUT' : get_value,'POST/PUT Body' :body_value}, ignore_index = True)"
      ],
      "execution_count": null,
      "outputs": []
    },
    {
      "cell_type": "code",
      "metadata": {
        "id": "74EYOuWbOv4b",
        "colab_type": "code",
        "colab": {}
      },
      "source": [
        "#the data in both the columns are decoded\n",
        "from urllib.parse import unquote\n",
        "for i,rows in X_combo.iterrows():\n",
        "    if rows[0] != 0 :\n",
        "        rows[0] = unquote(rows[0])\n",
        "    if rows[1] != 0:\n",
        "        rows[1] = unquote(rows[1])\n",
        "  "
      ],
      "execution_count": null,
      "outputs": []
    },
    {
      "cell_type": "code",
      "metadata": {
        "id": "B0Q-xM4nOx_N",
        "colab_type": "code",
        "colab": {}
      },
      "source": [
        "#Bag of Words implementation\n",
        "vectorizer = CountVectorizer()  \n",
        "vectorizer1 = CountVectorizer()\n"
      ],
      "execution_count": null,
      "outputs": []
    },
    {
      "cell_type": "code",
      "metadata": {
        "id": "wY-kwM_nO5AR",
        "colab_type": "code",
        "colab": {}
      },
      "source": [
        "#BOW for GET/POST/PUT column\n",
        "vectorizer.fit(X_combo['GET/POST/PUT'])\n",
        "vector = vectorizer.transform(X_combo['GET/POST/PUT']).toarray()"
      ],
      "execution_count": null,
      "outputs": []
    },
    {
      "cell_type": "code",
      "metadata": {
        "id": "zSREHFo1O_Qy",
        "colab_type": "code",
        "colab": {}
      },
      "source": [
        "#BOW for POST Body/PUT Body column\n",
        "vectorizer1.fit(X_combo['POST/PUT Body'])\n",
        "vector1 = vectorizer1.transform(X_combo['POST/PUT Body']).toarray()"
      ],
      "execution_count": null,
      "outputs": []
    },
    {
      "cell_type": "code",
      "metadata": {
        "id": "15ncPM1bPWOC",
        "colab_type": "code",
        "colab": {}
      },
      "source": [
        "#combining the BOW outputs of both the columns\n",
        "X_train = np.concatenate((vector,vector1),axis = 1)\n",
        "\n",
        "#encoding the class labels into integers\n",
        "label_encoder = LabelEncoder()\n",
        "y_train = np.array(label_encoder.fit_transform(y['class']))"
      ],
      "execution_count": null,
      "outputs": []
    },
    {
      "cell_type": "code",
      "metadata": {
        "id": "olse0oWMPv6P",
        "colab_type": "code",
        "colab": {
          "base_uri": "https://localhost:8080/",
          "height": 52
        },
        "outputId": "1872bbd9-b47b-4e35-e14c-efcd20d53770"
      },
      "source": [
        "#checking shape of the arrays before training\n",
        "print(X_train.shape)\n",
        "print(y_train.shape)\n"
      ],
      "execution_count": null,
      "outputs": [
        {
          "output_type": "stream",
          "text": [
            "(4000, 77625)\n",
            "(4000,)\n"
          ],
          "name": "stdout"
        }
      ]
    },
    {
      "cell_type": "code",
      "metadata": {
        "id": "lA1pecXRPzcw",
        "colab_type": "code",
        "colab": {}
      },
      "source": [
        "#splitting data into train and test data\n",
        "X_train, X_test, y_train, y_test = train_test_split(X_train, y_train, test_size=0.2)"
      ],
      "execution_count": null,
      "outputs": []
    },
    {
      "cell_type": "code",
      "metadata": {
        "id": "D9iFK8mUNDCS",
        "colab_type": "code",
        "colab": {
          "base_uri": "https://localhost:8080/",
          "height": 156
        },
        "outputId": "d5dc48f7-00d0-4a6f-c309-30786649b91c"
      },
      "source": [
        "#Model 1: Random Forest Classifier\n",
        "from sklearn.ensemble import RandomForestClassifier\n",
        "model = RandomForestClassifier()\n",
        "model.fit(X_train, y_train)"
      ],
      "execution_count": null,
      "outputs": [
        {
          "output_type": "execute_result",
          "data": {
            "text/plain": [
              "RandomForestClassifier(bootstrap=True, ccp_alpha=0.0, class_weight=None,\n",
              "                       criterion='gini', max_depth=None, max_features='auto',\n",
              "                       max_leaf_nodes=None, max_samples=None,\n",
              "                       min_impurity_decrease=0.0, min_impurity_split=None,\n",
              "                       min_samples_leaf=1, min_samples_split=2,\n",
              "                       min_weight_fraction_leaf=0.0, n_estimators=100,\n",
              "                       n_jobs=None, oob_score=False, random_state=None,\n",
              "                       verbose=0, warm_start=False)"
            ]
          },
          "metadata": {
            "tags": []
          },
          "execution_count": 55
        }
      ]
    },
    {
      "cell_type": "code",
      "metadata": {
        "id": "QcZsdqewNLEO",
        "colab_type": "code",
        "colab": {}
      },
      "source": [
        "r = model.predict(X_test)\n",
        "accuracy = accuracy_score(y_true = y_test, y_pred = r)"
      ],
      "execution_count": null,
      "outputs": []
    },
    {
      "cell_type": "code",
      "metadata": {
        "id": "2umWQc7oqQ5E",
        "colab_type": "code",
        "colab": {
          "base_uri": "https://localhost:8080/",
          "height": 538
        },
        "outputId": "6255fa55-94aa-4f9b-89b1-9a21c17d3dd1"
      },
      "source": [
        "print(\"Random Forest Classifier :\")\n",
        "print(\"Accuracy :\", accuracy)\n",
        "print(\"Precision Score :\", precision_score(y_test, r, average = 'weighted'))\n",
        "print(\"Recall score :\", recall_score(y_test, r, average = 'weighted'))\n",
        "print(\"F1 - score :\", f1_score(y_test, r, average = 'weighted'))\n",
        "print(\"Confusion Matrix :\\n\",confusion_matrix(y_test, r))\n",
        "print(\"Classification Report :\\n\",classification_report(y_test, r, target_names=class_set))"
      ],
      "execution_count": null,
      "outputs": [
        {
          "output_type": "stream",
          "text": [
            "Random Forest Classifier :\n",
            "Accuracy : 0.75\n",
            "Precision Score : 0.834826537307475\n",
            "Recall score : 0.75\n",
            "F1 - score : 0.772658881697371\n",
            "Confusion Matrix :\n",
            " [[63  1  9  1  2 40  0  0]\n",
            " [ 1 83  7  0  0 12  1  0]\n",
            " [ 0  1 91  0  1 22  0  0]\n",
            " [ 1  0  6 80  0 12  0  0]\n",
            " [ 0  3  2  1 75 16  0  0]\n",
            " [ 0  2 28  0  1 57  1  1]\n",
            " [ 0  1  3  0  0 13 77  0]\n",
            " [ 0  2  5  0  0  4  0 74]]\n",
            "Classification Report :\n",
            "                   precision    recall  f1-score   support\n",
            "\n",
            "    OsCommanding       0.97      0.54      0.70       116\n",
            "           Valid       0.89      0.80      0.84       104\n",
            "  XPathInjection       0.60      0.79      0.68       115\n",
            "             SSI       0.98      0.81      0.88        99\n",
            "   LdapInjection       0.95      0.77      0.85        97\n",
            "             XSS       0.32      0.63      0.43        90\n",
            " PathTransversal       0.97      0.82      0.89        94\n",
            "    SqlInjection       0.99      0.87      0.93        85\n",
            "\n",
            "        accuracy                           0.75       800\n",
            "       macro avg       0.83      0.75      0.78       800\n",
            "    weighted avg       0.83      0.75      0.77       800\n",
            "\n"
          ],
          "name": "stdout"
        }
      ]
    },
    {
      "cell_type": "code",
      "metadata": {
        "id": "-M8vT3z9P4XR",
        "colab_type": "code",
        "colab": {
          "base_uri": "https://localhost:8080/",
          "height": 104
        },
        "outputId": "eaf0eebc-39e7-4638-ebbd-9231d4b2d0f1"
      },
      "source": [
        "#model 2 : Logistic Regression\n",
        "model = LogisticRegression()\n",
        "model.fit(X_train,y_train)"
      ],
      "execution_count": null,
      "outputs": [
        {
          "output_type": "execute_result",
          "data": {
            "text/plain": [
              "LogisticRegression(C=1.0, class_weight=None, dual=False, fit_intercept=True,\n",
              "                   intercept_scaling=1, l1_ratio=None, max_iter=100,\n",
              "                   multi_class='auto', n_jobs=None, penalty='l2',\n",
              "                   random_state=None, solver='lbfgs', tol=0.0001, verbose=0,\n",
              "                   warm_start=False)"
            ]
          },
          "metadata": {
            "tags": []
          },
          "execution_count": 58
        }
      ]
    },
    {
      "cell_type": "code",
      "metadata": {
        "id": "MflnBOswP6wi",
        "colab_type": "code",
        "colab": {
          "base_uri": "https://localhost:8080/",
          "height": 34
        },
        "outputId": "efa3b689-1222-491a-b44e-0291db468d96"
      },
      "source": [
        "r = model.predict(X_test)\n",
        "accuracy = accuracy_score(y_true = y_test, y_pred = r)\n",
        "print(accuracy)"
      ],
      "execution_count": null,
      "outputs": [
        {
          "output_type": "stream",
          "text": [
            "0.7575\n"
          ],
          "name": "stdout"
        }
      ]
    },
    {
      "cell_type": "code",
      "metadata": {
        "id": "kSL3shuwzEUF",
        "colab_type": "code",
        "colab": {
          "base_uri": "https://localhost:8080/",
          "height": 538
        },
        "outputId": "c0aed8f5-cbb7-49a5-abb7-d14713fd7cbc"
      },
      "source": [
        "print(\"Logistic Regression Classifier :\")\n",
        "print(\"Accuracy :\", accuracy)\n",
        "print(\"Precision Score :\", precision_score(y_test, r, average = 'weighted'))\n",
        "print(\"Recall score :\", recall_score(y_test, r, average = 'weighted'))\n",
        "print(\"F1 - score :\", f1_score(y_test, r, average = 'weighted'))\n",
        "print(\"Confusion Matrix :\\n\",confusion_matrix(y_test, r))\n",
        "print(\"Classification Report :\\n\",classification_report(y_test, r, target_names=class_set))"
      ],
      "execution_count": null,
      "outputs": [
        {
          "output_type": "stream",
          "text": [
            "Logistic Regression Classifier :\n",
            "Accuracy : 0.7575\n",
            "Precision Score : 0.8627207397933782\n",
            "Recall score : 0.7575\n",
            "F1 - score : 0.7831560544074654\n",
            "Confusion Matrix :\n",
            " [[60  1  2  0  1 52  0  0]\n",
            " [ 0 78  9  1  0 16  0  0]\n",
            " [ 0  0 89  0  1 24  1  0]\n",
            " [ 0  0  2 80  0 16  0  1]\n",
            " [ 0  4  1  1 74 17  0  0]\n",
            " [ 0  3 11  0  0 74  1  1]\n",
            " [ 0  1  1  0  0 15 77  0]\n",
            " [ 0  2  2  0  0  7  0 74]]\n",
            "Classification Report :\n",
            "                   precision    recall  f1-score   support\n",
            "\n",
            "    OsCommanding       1.00      0.52      0.68       116\n",
            "           Valid       0.88      0.75      0.81       104\n",
            "  XPathInjection       0.76      0.77      0.77       115\n",
            "             SSI       0.98      0.81      0.88        99\n",
            "   LdapInjection       0.97      0.76      0.86        97\n",
            "             XSS       0.33      0.82      0.48        90\n",
            " PathTransversal       0.97      0.82      0.89        94\n",
            "    SqlInjection       0.97      0.87      0.92        85\n",
            "\n",
            "        accuracy                           0.76       800\n",
            "       macro avg       0.86      0.77      0.79       800\n",
            "    weighted avg       0.86      0.76      0.78       800\n",
            "\n"
          ],
          "name": "stdout"
        }
      ]
    },
    {
      "cell_type": "code",
      "metadata": {
        "id": "H3azhcYqQcAA",
        "colab_type": "code",
        "colab": {
          "base_uri": "https://localhost:8080/",
          "height": 121
        },
        "outputId": "9afd8f0f-e089-4837-b265-96fcee516e44"
      },
      "source": [
        "#Model 3: Stochastic Gradient Descent Classifier\n",
        "from sklearn.linear_model import SGDClassifier\n",
        "model = SGDClassifier()\n",
        "model.fit(X_train, y_train)"
      ],
      "execution_count": null,
      "outputs": [
        {
          "output_type": "execute_result",
          "data": {
            "text/plain": [
              "SGDClassifier(alpha=0.0001, average=False, class_weight=None,\n",
              "              early_stopping=False, epsilon=0.1, eta0=0.0, fit_intercept=True,\n",
              "              l1_ratio=0.15, learning_rate='optimal', loss='hinge',\n",
              "              max_iter=1000, n_iter_no_change=5, n_jobs=None, penalty='l2',\n",
              "              power_t=0.5, random_state=None, shuffle=True, tol=0.001,\n",
              "              validation_fraction=0.1, verbose=0, warm_start=False)"
            ]
          },
          "metadata": {
            "tags": []
          },
          "execution_count": 61
        }
      ]
    },
    {
      "cell_type": "code",
      "metadata": {
        "id": "x1oIEUg6Qjq_",
        "colab_type": "code",
        "colab": {
          "base_uri": "https://localhost:8080/",
          "height": 34
        },
        "outputId": "72b2abb6-a78a-4834-c7db-c686252d2dc7"
      },
      "source": [
        "r = model.predict(X_test)\n",
        "accuracy = accuracy_score(y_true = y_test, y_pred = r)\n",
        "print(accuracy)"
      ],
      "execution_count": null,
      "outputs": [
        {
          "output_type": "stream",
          "text": [
            "0.76375\n"
          ],
          "name": "stdout"
        }
      ]
    },
    {
      "cell_type": "code",
      "metadata": {
        "id": "VKJiPV3LzIRP",
        "colab_type": "code",
        "colab": {
          "base_uri": "https://localhost:8080/",
          "height": 538
        },
        "outputId": "2804ae55-87ec-4d59-8862-93ac96143922"
      },
      "source": [
        "print(\"Stochastic Gradient Descent Classifier :\")\n",
        "print(\"Accuracy :\", accuracy)\n",
        "print(\"Precision Score :\", precision_score(y_test, r, average = 'weighted'))\n",
        "print(\"Recall score :\", recall_score(y_test, r, average = 'weighted'))\n",
        "print(\"F1 - score :\", f1_score(y_test, r, average = 'weighted'))\n",
        "print(\"Confusion Matrix :\\n\",confusion_matrix(y_test, r))\n",
        "print(\"Classification Report :\\n\",classification_report(y_test, r, target_names=class_set))"
      ],
      "execution_count": null,
      "outputs": [
        {
          "output_type": "stream",
          "text": [
            "Stochastic Gradient Descent Classifier :\n",
            "Accuracy : 0.76375\n",
            "Precision Score : 0.8190128727852138\n",
            "Recall score : 0.76375\n",
            "F1 - score : 0.7759684683697489\n",
            "Confusion Matrix :\n",
            " [[63  0  1  1  2 37 12  0]\n",
            " [ 0 80  9  1  1 10  3  0]\n",
            " [ 1  3 89  0  1 16  5  0]\n",
            " [ 0  0  1 81  3 12  2  0]\n",
            " [ 1  4  0  3 76 12  0  1]\n",
            " [ 2  2  8  0  0 69  7  2]\n",
            " [ 1  0  0  1  1 12 79  0]\n",
            " [ 1  2  2  0  1  4  1 74]]\n",
            "Classification Report :\n",
            "                   precision    recall  f1-score   support\n",
            "\n",
            "    OsCommanding       0.91      0.54      0.68       116\n",
            "           Valid       0.88      0.77      0.82       104\n",
            "  XPathInjection       0.81      0.77      0.79       115\n",
            "             SSI       0.93      0.82      0.87        99\n",
            "   LdapInjection       0.89      0.78      0.84        97\n",
            "             XSS       0.40      0.77      0.53        90\n",
            " PathTransversal       0.72      0.84      0.78        94\n",
            "    SqlInjection       0.96      0.87      0.91        85\n",
            "\n",
            "        accuracy                           0.76       800\n",
            "       macro avg       0.81      0.77      0.78       800\n",
            "    weighted avg       0.82      0.76      0.78       800\n",
            "\n"
          ],
          "name": "stdout"
        }
      ]
    },
    {
      "cell_type": "code",
      "metadata": {
        "id": "blM8ovpAVJQl",
        "colab_type": "code",
        "colab": {
          "base_uri": "https://localhost:8080/",
          "height": 121
        },
        "outputId": "74455233-3a9c-4103-ef66-db4eea524078"
      },
      "source": [
        "#Model4: Decision Tree Classifier\n",
        "from sklearn import tree\n",
        "model = tree.DecisionTreeClassifier()\n",
        "model.fit(X_train, y_train)"
      ],
      "execution_count": null,
      "outputs": [
        {
          "output_type": "execute_result",
          "data": {
            "text/plain": [
              "DecisionTreeClassifier(ccp_alpha=0.0, class_weight=None, criterion='gini',\n",
              "                       max_depth=None, max_features=None, max_leaf_nodes=None,\n",
              "                       min_impurity_decrease=0.0, min_impurity_split=None,\n",
              "                       min_samples_leaf=1, min_samples_split=2,\n",
              "                       min_weight_fraction_leaf=0.0, presort='deprecated',\n",
              "                       random_state=None, splitter='best')"
            ]
          },
          "metadata": {
            "tags": []
          },
          "execution_count": 64
        }
      ]
    },
    {
      "cell_type": "code",
      "metadata": {
        "id": "F7bItqy1VOE_",
        "colab_type": "code",
        "colab": {
          "base_uri": "https://localhost:8080/",
          "height": 34
        },
        "outputId": "49e17e4d-2874-4562-890e-bc5ac1f1e9d6"
      },
      "source": [
        "r = model.predict(X_test)\n",
        "accuracy = accuracy_score(y_true = y_test, y_pred = r)\n",
        "print(accuracy)"
      ],
      "execution_count": null,
      "outputs": [
        {
          "output_type": "stream",
          "text": [
            "0.77375\n"
          ],
          "name": "stdout"
        }
      ]
    },
    {
      "cell_type": "code",
      "metadata": {
        "id": "9mCPaQq3zMqC",
        "colab_type": "code",
        "colab": {
          "base_uri": "https://localhost:8080/",
          "height": 538
        },
        "outputId": "78b92602-86cd-456e-bd1e-0a44f4f1d620"
      },
      "source": [
        "print(\"Decision Tree Classifier :\")\n",
        "print(\"Accuracy :\", accuracy)\n",
        "print(\"Precision Score :\", precision_score(y_test, r, average = 'weighted'))\n",
        "print(\"Recall score :\", recall_score(y_test, r, average = 'weighted'))\n",
        "print(\"F1 - score :\", f1_score(y_test, r, average = 'weighted'))\n",
        "print(\"Confusion Matrix :\\n\",confusion_matrix(y_test, r))\n",
        "print(\"Classification Report :\\n\",classification_report(y_test, r, target_names=class_set))"
      ],
      "execution_count": null,
      "outputs": [
        {
          "output_type": "stream",
          "text": [
            "Decision Tree Classifier :\n",
            "Accuracy : 0.77375\n",
            "Precision Score : 0.8545835579145802\n",
            "Recall score : 0.77375\n",
            "F1 - score : 0.7954007252730676\n",
            "Confusion Matrix :\n",
            " [[64  0  1  0  3 46  1  1]\n",
            " [ 2 86  2  0  0 14  0  0]\n",
            " [ 2  2 91  0  1 18  1  0]\n",
            " [ 0  0  0 80  2 16  0  1]\n",
            " [ 2  1  1  1 76 15  0  1]\n",
            " [ 0  4 11  0  1 71  1  2]\n",
            " [ 0  0  1  0  0 16 77  0]\n",
            " [ 0  2  3  0  0  6  0 74]]\n",
            "Classification Report :\n",
            "                   precision    recall  f1-score   support\n",
            "\n",
            "    OsCommanding       0.91      0.55      0.69       116\n",
            "           Valid       0.91      0.83      0.86       104\n",
            "  XPathInjection       0.83      0.79      0.81       115\n",
            "             SSI       0.99      0.81      0.89        99\n",
            "   LdapInjection       0.92      0.78      0.84        97\n",
            "             XSS       0.35      0.79      0.49        90\n",
            " PathTransversal       0.96      0.82      0.89        94\n",
            "    SqlInjection       0.94      0.87      0.90        85\n",
            "\n",
            "        accuracy                           0.77       800\n",
            "       macro avg       0.85      0.78      0.80       800\n",
            "    weighted avg       0.85      0.77      0.80       800\n",
            "\n"
          ],
          "name": "stdout"
        }
      ]
    },
    {
      "cell_type": "code",
      "metadata": {
        "id": "fI3ucRncZgaF",
        "colab_type": "code",
        "colab": {
          "base_uri": "https://localhost:8080/",
          "height": 260
        },
        "outputId": "ad29ab90-a43f-4491-a0a7-9fe8307d1278"
      },
      "source": [
        " from sklearn.neural_network import MLPClassifier\n",
        " model = MLPClassifier(solver='lbfgs', alpha=1e-5, hidden_layer_sizes=(5, 2), random_state=1)\n",
        " model.fit(X_train, y_train)"
      ],
      "execution_count": null,
      "outputs": [
        {
          "output_type": "stream",
          "text": [
            "/usr/local/lib/python3.6/dist-packages/sklearn/neural_network/_multilayer_perceptron.py:470: ConvergenceWarning: lbfgs failed to converge (status=1):\n",
            "STOP: TOTAL NO. of ITERATIONS REACHED LIMIT.\n",
            "\n",
            "Increase the number of iterations (max_iter) or scale the data as shown in:\n",
            "    https://scikit-learn.org/stable/modules/preprocessing.html\n",
            "  self.n_iter_ = _check_optimize_result(\"lbfgs\", opt_res, self.max_iter)\n"
          ],
          "name": "stderr"
        },
        {
          "output_type": "execute_result",
          "data": {
            "text/plain": [
              "MLPClassifier(activation='relu', alpha=1e-05, batch_size='auto', beta_1=0.9,\n",
              "              beta_2=0.999, early_stopping=False, epsilon=1e-08,\n",
              "              hidden_layer_sizes=(5, 2), learning_rate='constant',\n",
              "              learning_rate_init=0.001, max_fun=15000, max_iter=200,\n",
              "              momentum=0.9, n_iter_no_change=10, nesterovs_momentum=True,\n",
              "              power_t=0.5, random_state=1, shuffle=True, solver='lbfgs',\n",
              "              tol=0.0001, validation_fraction=0.1, verbose=False,\n",
              "              warm_start=False)"
            ]
          },
          "metadata": {
            "tags": []
          },
          "execution_count": 67
        }
      ]
    },
    {
      "cell_type": "code",
      "metadata": {
        "id": "OVp-0UzPZkXw",
        "colab_type": "code",
        "colab": {}
      },
      "source": [
        "r = model.predict(X_test)\n",
        "accuracy = accuracy_score(y_true = y_test, y_pred = r)"
      ],
      "execution_count": null,
      "outputs": []
    },
    {
      "cell_type": "code",
      "metadata": {
        "id": "UPf4t6uzZmyO",
        "colab_type": "code",
        "colab": {
          "base_uri": "https://localhost:8080/",
          "height": 627
        },
        "outputId": "b4ebe09c-d039-4478-ebc8-6ef99ec13f0e"
      },
      "source": [
        "print(\"MLP Classifier :\")\n",
        "print(\"Accuracy :\", accuracy)\n",
        "print(\"Precision Score :\", precision_score(y_test, r, average = 'weighted'))\n",
        "print(\"Recall score :\", recall_score(y_test, r, average = 'weighted'))\n",
        "print(\"F1 - score :\", f1_score(y_test, r, average = 'weighted'))\n",
        "print(\"Confusion Matrix :\\n\",confusion_matrix(y_test, r))\n",
        "print(\"Classification Report :\\n\",classification_report(y_test, r, target_names=class_set))"
      ],
      "execution_count": null,
      "outputs": [
        {
          "output_type": "stream",
          "text": [
            "MLP Classifier :\n",
            "Accuracy : 0.53875\n",
            "Precision Score : 0.5073637364902269\n",
            "Recall score : 0.53875\n",
            "F1 - score : 0.4781082742098734\n",
            "Confusion Matrix :\n",
            " [[  0   0  41   3   4   0  67   1]\n",
            " [  0  62  24  14   3   0   1   0]\n",
            " [  0   1 102   3   2   2   5   0]\n",
            " [  0   6  13  72   6   0   2   0]\n",
            " [  0   3  23   5  47   0  17   2]\n",
            " [  0   0  66   7   8   1   7   1]\n",
            " [  0   0  11   4   1   0  78   0]\n",
            " [  0   1   9   0   6   0   0  69]]\n",
            "Classification Report :\n",
            "                   precision    recall  f1-score   support\n",
            "\n",
            "    OsCommanding       0.00      0.00      0.00       116\n",
            "           Valid       0.85      0.60      0.70       104\n",
            "  XPathInjection       0.35      0.89      0.50       115\n",
            "             SSI       0.67      0.73      0.70        99\n",
            "   LdapInjection       0.61      0.48      0.54        97\n",
            "             XSS       0.33      0.01      0.02        90\n",
            " PathTransversal       0.44      0.83      0.58        94\n",
            "    SqlInjection       0.95      0.81      0.87        85\n",
            "\n",
            "        accuracy                           0.54       800\n",
            "       macro avg       0.52      0.54      0.49       800\n",
            "    weighted avg       0.51      0.54      0.48       800\n",
            "\n"
          ],
          "name": "stdout"
        },
        {
          "output_type": "stream",
          "text": [
            "/usr/local/lib/python3.6/dist-packages/sklearn/metrics/_classification.py:1272: UndefinedMetricWarning: Precision is ill-defined and being set to 0.0 in labels with no predicted samples. Use `zero_division` parameter to control this behavior.\n",
            "  _warn_prf(average, modifier, msg_start, len(result))\n",
            "/usr/local/lib/python3.6/dist-packages/sklearn/metrics/_classification.py:1272: UndefinedMetricWarning: Precision and F-score are ill-defined and being set to 0.0 in labels with no predicted samples. Use `zero_division` parameter to control this behavior.\n",
            "  _warn_prf(average, modifier, msg_start, len(result))\n"
          ],
          "name": "stderr"
        }
      ]
    }
  ]
}